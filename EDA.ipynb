{
 "cells": [
  {
   "cell_type": "code",
   "execution_count": 1,
   "metadata": {},
   "outputs": [],
   "source": [
    "import pandas as pd\n",
    "from os import listdir\n",
    "from statistics import mean\n",
    "import numpy as np"
   ]
  },
  {
   "cell_type": "code",
   "execution_count": 2,
   "metadata": {},
   "outputs": [
    {
     "data": {
      "text/plain": [
       "['.DS_Store',\n",
       " '.remove_duplicates.py.swo',\n",
       " 'BLCA-US',\n",
       " 'BRCA-US',\n",
       " 'COAD-US',\n",
       " 'GBM-US',\n",
       " 'KIRC-US',\n",
       " 'LGG-US',\n",
       " 'list_data_dirs.py',\n",
       " 'LUSC-US',\n",
       " 'organize_data.py',\n",
       " 'OV-US',\n",
       " 'PRAD-US',\n",
       " 'SKCM-US',\n",
       " 'THCA-US',\n",
       " 'UCEC-US']"
      ]
     },
     "execution_count": 2,
     "metadata": {},
     "output_type": "execute_result"
    }
   ],
   "source": [
    "listdir('data')"
   ]
  },
  {
   "cell_type": "code",
   "execution_count": 3,
   "metadata": {
    "scrolled": false
   },
   "outputs": [],
   "source": [
    "# Gets unique mutation ids with number of occurrences\n",
    "# Returns new dataframe with cancer type, donor id, mutation ids and corresponding counts\n",
    "def mutation_counts(df):\n",
    "    cancer_type = df.project_code[0]\n",
    "    donor_id = df.icgc_donor_id[0] + cancer_type\n",
    "    smaller_df = df[['icgc_mutation_id']]\n",
    "    unique_ids, counts = np.unique(smaller_df.to_numpy(), \n",
    "                                   return_counts=True,\n",
    "                                  )\n",
    "    new_df = pd.DataFrame({\"CancerType\": cancer_type,\n",
    "                           \"DonorId\": donor_id,\n",
    "                           \"MutationId\": unique_ids, \n",
    "                           \"Count\": counts})\n",
    "    return new_df"
   ]
  },
  {
   "cell_type": "code",
   "execution_count": 4,
   "metadata": {},
   "outputs": [],
   "source": [
    "# The mutation counts for a cancer type is returned\n",
    "def get_mutation_frames(cancer_code):\n",
    "    DATA_PATH = 'data/'\n",
    "    PATH = DATA_PATH + cancer_code + '/'\n",
    "    \n",
    "    all_files = [file for file in listdir(PATH)]\n",
    "    \n",
    "    final_df = None\n",
    "    \n",
    "    for file in all_files:\n",
    "        df = pd.read_csv(PATH + file, sep='\\t')\n",
    "        final_df = pd.concat([final_df, mutation_counts(df)])\n",
    "        \n",
    "    return final_df"
   ]
  },
  {
   "cell_type": "code",
   "execution_count": 5,
   "metadata": {},
   "outputs": [
    {
     "name": "stderr",
     "output_type": "stream",
     "text": [
      "C:\\Users\\khj\\Anaconda3\\lib\\site-packages\\IPython\\core\\interactiveshell.py:3185: DtypeWarning: Columns (8) have mixed types. Specify dtype option on import or set low_memory=False.\n",
      "  if (yield from self.run_code(code, result)):\n"
     ]
    }
   ],
   "source": [
    "# Go through all cancer types and get mutation dataframes\n",
    "# Concatenate all dataframes\n",
    "# This results in one dataframe for all cancer types\n",
    "\n",
    "folders = [file for file in listdir('data') if 'US' in file]\n",
    "all_cancer_df = None\n",
    "for cancer in folders:\n",
    "    all_cancer_df = pd.concat([all_cancer_df, \n",
    "                               get_mutation_frames(cancer)])\n",
    "    \n",
    "all_cancer_df.reset_index(drop=True, inplace=True)"
   ]
  },
  {
   "cell_type": "code",
   "execution_count": 6,
   "metadata": {},
   "outputs": [
    {
     "data": {
      "text/html": [
       "<div>\n",
       "<style scoped>\n",
       "    .dataframe tbody tr th:only-of-type {\n",
       "        vertical-align: middle;\n",
       "    }\n",
       "\n",
       "    .dataframe tbody tr th {\n",
       "        vertical-align: top;\n",
       "    }\n",
       "\n",
       "    .dataframe thead th {\n",
       "        text-align: right;\n",
       "    }\n",
       "</style>\n",
       "<table border=\"1\" class=\"dataframe\">\n",
       "  <thead>\n",
       "    <tr style=\"text-align: right;\">\n",
       "      <th></th>\n",
       "      <th>CancerType</th>\n",
       "      <th>DonorId</th>\n",
       "      <th>MutationId</th>\n",
       "      <th>Count</th>\n",
       "    </tr>\n",
       "  </thead>\n",
       "  <tbody>\n",
       "    <tr>\n",
       "      <th>0</th>\n",
       "      <td>BLCA-US</td>\n",
       "      <td>DO48566BLCA-US</td>\n",
       "      <td>MU100073</td>\n",
       "      <td>7</td>\n",
       "    </tr>\n",
       "    <tr>\n",
       "      <th>1</th>\n",
       "      <td>BLCA-US</td>\n",
       "      <td>DO48566BLCA-US</td>\n",
       "      <td>MU101899</td>\n",
       "      <td>12</td>\n",
       "    </tr>\n",
       "    <tr>\n",
       "      <th>2</th>\n",
       "      <td>BLCA-US</td>\n",
       "      <td>DO48566BLCA-US</td>\n",
       "      <td>MU102378</td>\n",
       "      <td>12</td>\n",
       "    </tr>\n",
       "    <tr>\n",
       "      <th>3</th>\n",
       "      <td>BLCA-US</td>\n",
       "      <td>DO48566BLCA-US</td>\n",
       "      <td>MU102443</td>\n",
       "      <td>9</td>\n",
       "    </tr>\n",
       "    <tr>\n",
       "      <th>4</th>\n",
       "      <td>BLCA-US</td>\n",
       "      <td>DO48566BLCA-US</td>\n",
       "      <td>MU103120</td>\n",
       "      <td>3</td>\n",
       "    </tr>\n",
       "  </tbody>\n",
       "</table>\n",
       "</div>"
      ],
      "text/plain": [
       "  CancerType         DonorId MutationId  Count\n",
       "0    BLCA-US  DO48566BLCA-US   MU100073      7\n",
       "1    BLCA-US  DO48566BLCA-US   MU101899     12\n",
       "2    BLCA-US  DO48566BLCA-US   MU102378     12\n",
       "3    BLCA-US  DO48566BLCA-US   MU102443      9\n",
       "4    BLCA-US  DO48566BLCA-US   MU103120      3"
      ]
     },
     "execution_count": 6,
     "metadata": {},
     "output_type": "execute_result"
    }
   ],
   "source": [
    "all_cancer_df.head()"
   ]
  },
  {
   "cell_type": "code",
   "execution_count": 85,
   "metadata": {},
   "outputs": [
    {
     "data": {
      "text/plain": [
       "1710852"
      ]
     },
     "execution_count": 85,
     "metadata": {},
     "output_type": "execute_result"
    }
   ],
   "source": [
    "len(np.unique(mutation_gene_df['MutationId']))"
   ]
  },
  {
   "cell_type": "code",
   "execution_count": 8,
   "metadata": {},
   "outputs": [],
   "source": [
    "unique_mutations, counts = np.unique(np.array(all_cancer_df.MutationId), return_counts=True)"
   ]
  },
  {
   "cell_type": "code",
   "execution_count": 9,
   "metadata": {},
   "outputs": [],
   "source": [
    "mutation_df = pd.DataFrame( {'MutationID': unique_mutations, \n",
    "                             'Counts': counts} )"
   ]
  },
  {
   "cell_type": "code",
   "execution_count": 10,
   "metadata": {},
   "outputs": [],
   "source": [
    "mutation_df_filtered = mutation_df[mutation_df.Counts > 4]"
   ]
  },
  {
   "cell_type": "code",
   "execution_count": 11,
   "metadata": {},
   "outputs": [
    {
     "name": "stderr",
     "output_type": "stream",
     "text": [
      "C:\\Users\\khj\\Anaconda3\\lib\\site-packages\\ipykernel_launcher.py:1: SettingWithCopyWarning: \n",
      "A value is trying to be set on a copy of a slice from a DataFrame\n",
      "\n",
      "See the caveats in the documentation: http://pandas.pydata.org/pandas-docs/stable/indexing.html#indexing-view-versus-copy\n",
      "  \"\"\"Entry point for launching an IPython kernel.\n"
     ]
    },
    {
     "data": {
      "text/html": [
       "<div>\n",
       "<style scoped>\n",
       "    .dataframe tbody tr th:only-of-type {\n",
       "        vertical-align: middle;\n",
       "    }\n",
       "\n",
       "    .dataframe tbody tr th {\n",
       "        vertical-align: top;\n",
       "    }\n",
       "\n",
       "    .dataframe thead th {\n",
       "        text-align: right;\n",
       "    }\n",
       "</style>\n",
       "<table border=\"1\" class=\"dataframe\">\n",
       "  <thead>\n",
       "    <tr style=\"text-align: right;\">\n",
       "      <th></th>\n",
       "      <th>MutationID</th>\n",
       "      <th>Counts</th>\n",
       "    </tr>\n",
       "  </thead>\n",
       "  <tbody>\n",
       "    <tr>\n",
       "      <th>1186458</th>\n",
       "      <td>MU1899169</td>\n",
       "      <td>5</td>\n",
       "    </tr>\n",
       "    <tr>\n",
       "      <th>1236057</th>\n",
       "      <td>MU1957569</td>\n",
       "      <td>5</td>\n",
       "    </tr>\n",
       "    <tr>\n",
       "      <th>1236120</th>\n",
       "      <td>MU1957631</td>\n",
       "      <td>5</td>\n",
       "    </tr>\n",
       "    <tr>\n",
       "      <th>1236182</th>\n",
       "      <td>MU1957694</td>\n",
       "      <td>5</td>\n",
       "    </tr>\n",
       "    <tr>\n",
       "      <th>1236245</th>\n",
       "      <td>MU1957756</td>\n",
       "      <td>5</td>\n",
       "    </tr>\n",
       "  </tbody>\n",
       "</table>\n",
       "</div>"
      ],
      "text/plain": [
       "        MutationID  Counts\n",
       "1186458  MU1899169       5\n",
       "1236057  MU1957569       5\n",
       "1236120  MU1957631       5\n",
       "1236182  MU1957694       5\n",
       "1236245  MU1957756       5"
      ]
     },
     "execution_count": 11,
     "metadata": {},
     "output_type": "execute_result"
    }
   ],
   "source": [
    "mutation_df_filtered.sort_values(by=['Counts'], inplace=True)\n",
    "mutation_df_filtered.head()"
   ]
  },
  {
   "cell_type": "code",
   "execution_count": 12,
   "metadata": {},
   "outputs": [],
   "source": [
    "mutation_ids = mutation_df_filtered.MutationID"
   ]
  },
  {
   "cell_type": "code",
   "execution_count": 13,
   "metadata": {},
   "outputs": [],
   "source": [
    "master_mutations = np.array(mutation_ids)"
   ]
  },
  {
   "cell_type": "code",
   "execution_count": 14,
   "metadata": {},
   "outputs": [
    {
     "data": {
      "text/plain": [
       "array([0., 0., 0., ..., 0., 0., 0.])"
      ]
     },
     "execution_count": 14,
     "metadata": {},
     "output_type": "execute_result"
    }
   ],
   "source": [
    "columns = ['DonorIDs', 'CancerType'] + list(master_mutations)\n",
    "df = pd.DataFrame(columns = columns)\n",
    "temp = np.where(master_mutations == 'IS675')\n",
    "np.zeros((len(master_mutations)))"
   ]
  },
  {
   "cell_type": "code",
   "execution_count": 15,
   "metadata": {},
   "outputs": [],
   "source": [
    "def helper(df):\n",
    "    cancer_type = df.project_code[0]\n",
    "    donor_id = df.icgc_donor_id[0] + cancer_type\n",
    "    smaller_df = df[['icgc_mutation_id']]\n",
    "    unique_ids = np.unique(smaller_df.to_numpy())\n",
    "    return cancer_type, donor_id, unique_ids"
   ]
  },
  {
   "cell_type": "code",
   "execution_count": 16,
   "metadata": {},
   "outputs": [],
   "source": [
    "def katrinas_function(df, cancer_code, master_mutations):\n",
    "    \n",
    "    DATA_PATH = 'data/'\n",
    "    PATH = DATA_PATH + cancer_code + '/'\n",
    "    \n",
    "    all_files = [file for file in listdir(PATH)]\n",
    "    columns = ['DonorIDs', 'CancerType'] + list(master_mutations)\n",
    "    final_df = df\n",
    "    \n",
    "    for file in all_files:\n",
    "        df = pd.read_csv(PATH + file, sep='\\t')\n",
    "        cancer_type, donor_id, unique_ids = helper(df)\n",
    "        binary = np.zeros((len(master_mutations)))\n",
    "        \n",
    "        for ids in unique_ids:\n",
    "            temp = np.where(master_mutations == ids)\n",
    "            if len(temp) > 0:\n",
    "                binary[temp[0]] = 1\n",
    "        \n",
    "        row = [donor_id, cancer_type] + list(binary)\n",
    "        final_df = pd.concat([final_df, pd.DataFrame([row], columns=columns)], ignore_index=True)\n",
    "    \n",
    "    return final_df\n",
    "\n"
   ]
  },
  {
   "cell_type": "code",
   "execution_count": 18,
   "metadata": {},
   "outputs": [
    {
     "name": "stdout",
     "output_type": "stream",
     "text": [
      "BLCA-US\n",
      "BRCA-US\n",
      "COAD-US\n",
      "GBM-US\n",
      "KIRC-US\n",
      "LGG-US\n",
      "LUSC-US\n",
      "OV-US\n",
      "PRAD-US\n",
      "SKCM-US\n",
      "THCA-US\n",
      "UCEC-US\n"
     ]
    }
   ],
   "source": [
    "folders = [file for file in listdir('data') if 'US' in file]\n",
    "\n",
    "for cancer in folders:\n",
    "    print(cancer)"
   ]
  },
  {
   "cell_type": "code",
   "execution_count": 24,
   "metadata": {},
   "outputs": [
    {
     "name": "stdout",
     "output_type": "stream",
     "text": [
      "BLCA-US\n",
      "BRCA-US\n",
      "COAD-US\n"
     ]
    },
    {
     "name": "stderr",
     "output_type": "stream",
     "text": [
      "C:\\Users\\khj\\Anaconda3\\lib\\site-packages\\IPython\\core\\interactiveshell.py:3185: DtypeWarning: Columns (8) have mixed types. Specify dtype option on import or set low_memory=False.\n",
      "  if (yield from self.run_code(code, result)):\n"
     ]
    },
    {
     "name": "stdout",
     "output_type": "stream",
     "text": [
      "GBM-US\n",
      "KIRC-US\n",
      "LGG-US\n",
      "LUSC-US\n",
      "OV-US\n",
      "PRAD-US\n",
      "SKCM-US\n",
      "THCA-US\n",
      "UCEC-US\n"
     ]
    }
   ],
   "source": [
    "folders = [file for file in listdir('data') if 'US' in file]\n",
    "encodings_array = []\n",
    "i=0\n",
    "\n",
    "for cancer in folders:\n",
    "    print(cancer)\n",
    "    encoding = pd.DataFrame(columns = columns)\n",
    "    encoding = katrinas_function(encoding, cancer, master_mutations)\n",
    "    encoding.reset_index(drop=True, inplace=True)\n",
    "    encodings_array.append(encoding)"
   ]
  },
  {
   "cell_type": "code",
   "execution_count": 25,
   "metadata": {},
   "outputs": [
    {
     "data": {
      "text/plain": [
       "12"
      ]
     },
     "execution_count": 25,
     "metadata": {},
     "output_type": "execute_result"
    }
   ],
   "source": [
    "len(encodings_array)"
   ]
  },
  {
   "cell_type": "code",
   "execution_count": 27,
   "metadata": {},
   "outputs": [],
   "source": [
    "binary_encodings = pd.concat([encodings_array[0],\n",
    "          encodings_array[1],\n",
    "          encodings_array[2],\n",
    "          encodings_array[3],\n",
    "          encodings_array[4],\n",
    "          encodings_array[5],\n",
    "          encodings_array[6],\n",
    "          encodings_array[7],\n",
    "          encodings_array[8],\n",
    "          encodings_array[9],\n",
    "          encodings_array[10],\n",
    "          encodings_array[11]])"
   ]
  },
  {
   "cell_type": "code",
   "execution_count": 28,
   "metadata": {},
   "outputs": [
    {
     "name": "stdout",
     "output_type": "stream",
     "text": [
      "(4581, 20266)\n"
     ]
    },
    {
     "data": {
      "text/html": [
       "<div>\n",
       "<style scoped>\n",
       "    .dataframe tbody tr th:only-of-type {\n",
       "        vertical-align: middle;\n",
       "    }\n",
       "\n",
       "    .dataframe tbody tr th {\n",
       "        vertical-align: top;\n",
       "    }\n",
       "\n",
       "    .dataframe thead th {\n",
       "        text-align: right;\n",
       "    }\n",
       "</style>\n",
       "<table border=\"1\" class=\"dataframe\">\n",
       "  <thead>\n",
       "    <tr style=\"text-align: right;\">\n",
       "      <th></th>\n",
       "      <th>DonorIDs</th>\n",
       "      <th>CancerType</th>\n",
       "      <th>MU1899169</th>\n",
       "      <th>MU1957569</th>\n",
       "      <th>MU1957631</th>\n",
       "      <th>MU1957694</th>\n",
       "      <th>MU1957756</th>\n",
       "      <th>MU1957895</th>\n",
       "      <th>MU1957974</th>\n",
       "      <th>MU1958009</th>\n",
       "      <th>...</th>\n",
       "      <th>MU130696800</th>\n",
       "      <th>MU122201</th>\n",
       "      <th>MU129795540</th>\n",
       "      <th>MU129540995</th>\n",
       "      <th>MU4885648</th>\n",
       "      <th>MU4468</th>\n",
       "      <th>MU866</th>\n",
       "      <th>MU62030</th>\n",
       "      <th>MU131898417</th>\n",
       "      <th>MU131867962</th>\n",
       "    </tr>\n",
       "  </thead>\n",
       "  <tbody>\n",
       "    <tr>\n",
       "      <th>0</th>\n",
       "      <td>DO48566BLCA-US</td>\n",
       "      <td>BLCA-US</td>\n",
       "      <td>0.0</td>\n",
       "      <td>0.0</td>\n",
       "      <td>0.0</td>\n",
       "      <td>0.0</td>\n",
       "      <td>0.0</td>\n",
       "      <td>0.0</td>\n",
       "      <td>0.0</td>\n",
       "      <td>0.0</td>\n",
       "      <td>...</td>\n",
       "      <td>0.0</td>\n",
       "      <td>0.0</td>\n",
       "      <td>0.0</td>\n",
       "      <td>0.0</td>\n",
       "      <td>0.0</td>\n",
       "      <td>0.0</td>\n",
       "      <td>0.0</td>\n",
       "      <td>0.0</td>\n",
       "      <td>0.0</td>\n",
       "      <td>0.0</td>\n",
       "    </tr>\n",
       "    <tr>\n",
       "      <th>1</th>\n",
       "      <td>DO223588BLCA-US</td>\n",
       "      <td>BLCA-US</td>\n",
       "      <td>0.0</td>\n",
       "      <td>0.0</td>\n",
       "      <td>0.0</td>\n",
       "      <td>0.0</td>\n",
       "      <td>0.0</td>\n",
       "      <td>0.0</td>\n",
       "      <td>0.0</td>\n",
       "      <td>0.0</td>\n",
       "      <td>...</td>\n",
       "      <td>0.0</td>\n",
       "      <td>0.0</td>\n",
       "      <td>0.0</td>\n",
       "      <td>0.0</td>\n",
       "      <td>0.0</td>\n",
       "      <td>0.0</td>\n",
       "      <td>0.0</td>\n",
       "      <td>0.0</td>\n",
       "      <td>0.0</td>\n",
       "      <td>0.0</td>\n",
       "    </tr>\n",
       "    <tr>\n",
       "      <th>2</th>\n",
       "      <td>DO51948BLCA-US</td>\n",
       "      <td>BLCA-US</td>\n",
       "      <td>0.0</td>\n",
       "      <td>0.0</td>\n",
       "      <td>0.0</td>\n",
       "      <td>0.0</td>\n",
       "      <td>0.0</td>\n",
       "      <td>0.0</td>\n",
       "      <td>0.0</td>\n",
       "      <td>0.0</td>\n",
       "      <td>...</td>\n",
       "      <td>0.0</td>\n",
       "      <td>0.0</td>\n",
       "      <td>0.0</td>\n",
       "      <td>0.0</td>\n",
       "      <td>0.0</td>\n",
       "      <td>0.0</td>\n",
       "      <td>0.0</td>\n",
       "      <td>0.0</td>\n",
       "      <td>0.0</td>\n",
       "      <td>0.0</td>\n",
       "    </tr>\n",
       "    <tr>\n",
       "      <th>3</th>\n",
       "      <td>DO514BLCA-US</td>\n",
       "      <td>BLCA-US</td>\n",
       "      <td>0.0</td>\n",
       "      <td>0.0</td>\n",
       "      <td>0.0</td>\n",
       "      <td>0.0</td>\n",
       "      <td>0.0</td>\n",
       "      <td>0.0</td>\n",
       "      <td>0.0</td>\n",
       "      <td>0.0</td>\n",
       "      <td>...</td>\n",
       "      <td>0.0</td>\n",
       "      <td>0.0</td>\n",
       "      <td>0.0</td>\n",
       "      <td>0.0</td>\n",
       "      <td>0.0</td>\n",
       "      <td>0.0</td>\n",
       "      <td>0.0</td>\n",
       "      <td>0.0</td>\n",
       "      <td>0.0</td>\n",
       "      <td>0.0</td>\n",
       "    </tr>\n",
       "    <tr>\n",
       "      <th>4</th>\n",
       "      <td>DO474BLCA-US</td>\n",
       "      <td>BLCA-US</td>\n",
       "      <td>0.0</td>\n",
       "      <td>0.0</td>\n",
       "      <td>0.0</td>\n",
       "      <td>0.0</td>\n",
       "      <td>0.0</td>\n",
       "      <td>0.0</td>\n",
       "      <td>0.0</td>\n",
       "      <td>0.0</td>\n",
       "      <td>...</td>\n",
       "      <td>0.0</td>\n",
       "      <td>0.0</td>\n",
       "      <td>0.0</td>\n",
       "      <td>0.0</td>\n",
       "      <td>0.0</td>\n",
       "      <td>0.0</td>\n",
       "      <td>0.0</td>\n",
       "      <td>0.0</td>\n",
       "      <td>0.0</td>\n",
       "      <td>0.0</td>\n",
       "    </tr>\n",
       "  </tbody>\n",
       "</table>\n",
       "<p>5 rows × 20266 columns</p>\n",
       "</div>"
      ],
      "text/plain": [
       "          DonorIDs CancerType  MU1899169  MU1957569  MU1957631  MU1957694  \\\n",
       "0   DO48566BLCA-US    BLCA-US        0.0        0.0        0.0        0.0   \n",
       "1  DO223588BLCA-US    BLCA-US        0.0        0.0        0.0        0.0   \n",
       "2   DO51948BLCA-US    BLCA-US        0.0        0.0        0.0        0.0   \n",
       "3     DO514BLCA-US    BLCA-US        0.0        0.0        0.0        0.0   \n",
       "4     DO474BLCA-US    BLCA-US        0.0        0.0        0.0        0.0   \n",
       "\n",
       "   MU1957756  MU1957895  MU1957974  MU1958009  ...  MU130696800  MU122201  \\\n",
       "0        0.0        0.0        0.0        0.0  ...          0.0       0.0   \n",
       "1        0.0        0.0        0.0        0.0  ...          0.0       0.0   \n",
       "2        0.0        0.0        0.0        0.0  ...          0.0       0.0   \n",
       "3        0.0        0.0        0.0        0.0  ...          0.0       0.0   \n",
       "4        0.0        0.0        0.0        0.0  ...          0.0       0.0   \n",
       "\n",
       "   MU129795540  MU129540995  MU4885648  MU4468  MU866  MU62030  MU131898417  \\\n",
       "0          0.0          0.0        0.0     0.0    0.0      0.0          0.0   \n",
       "1          0.0          0.0        0.0     0.0    0.0      0.0          0.0   \n",
       "2          0.0          0.0        0.0     0.0    0.0      0.0          0.0   \n",
       "3          0.0          0.0        0.0     0.0    0.0      0.0          0.0   \n",
       "4          0.0          0.0        0.0     0.0    0.0      0.0          0.0   \n",
       "\n",
       "   MU131867962  \n",
       "0          0.0  \n",
       "1          0.0  \n",
       "2          0.0  \n",
       "3          0.0  \n",
       "4          0.0  \n",
       "\n",
       "[5 rows x 20266 columns]"
      ]
     },
     "execution_count": 28,
     "metadata": {},
     "output_type": "execute_result"
    }
   ],
   "source": [
    "binary_encodings.reset_index(drop=True, inplace=True)\n",
    "print(binary_encodings.shape)\n",
    "binary_encodings.head()"
   ]
  },
  {
   "cell_type": "code",
   "execution_count": 31,
   "metadata": {},
   "outputs": [],
   "source": [
    "uniq_binary_enc = binary_encodings.drop_duplicates()"
   ]
  },
  {
   "cell_type": "code",
   "execution_count": 32,
   "metadata": {},
   "outputs": [
    {
     "name": "stdout",
     "output_type": "stream",
     "text": [
      "(3364, 20266)\n"
     ]
    },
    {
     "data": {
      "text/html": [
       "<div>\n",
       "<style scoped>\n",
       "    .dataframe tbody tr th:only-of-type {\n",
       "        vertical-align: middle;\n",
       "    }\n",
       "\n",
       "    .dataframe tbody tr th {\n",
       "        vertical-align: top;\n",
       "    }\n",
       "\n",
       "    .dataframe thead th {\n",
       "        text-align: right;\n",
       "    }\n",
       "</style>\n",
       "<table border=\"1\" class=\"dataframe\">\n",
       "  <thead>\n",
       "    <tr style=\"text-align: right;\">\n",
       "      <th></th>\n",
       "      <th>DonorIDs</th>\n",
       "      <th>CancerType</th>\n",
       "      <th>MU1899169</th>\n",
       "      <th>MU1957569</th>\n",
       "      <th>MU1957631</th>\n",
       "      <th>MU1957694</th>\n",
       "      <th>MU1957756</th>\n",
       "      <th>MU1957895</th>\n",
       "      <th>MU1957974</th>\n",
       "      <th>MU1958009</th>\n",
       "      <th>...</th>\n",
       "      <th>MU130696800</th>\n",
       "      <th>MU122201</th>\n",
       "      <th>MU129795540</th>\n",
       "      <th>MU129540995</th>\n",
       "      <th>MU4885648</th>\n",
       "      <th>MU4468</th>\n",
       "      <th>MU866</th>\n",
       "      <th>MU62030</th>\n",
       "      <th>MU131898417</th>\n",
       "      <th>MU131867962</th>\n",
       "    </tr>\n",
       "  </thead>\n",
       "  <tbody>\n",
       "    <tr>\n",
       "      <th>0</th>\n",
       "      <td>DO48566BLCA-US</td>\n",
       "      <td>BLCA-US</td>\n",
       "      <td>0.0</td>\n",
       "      <td>0.0</td>\n",
       "      <td>0.0</td>\n",
       "      <td>0.0</td>\n",
       "      <td>0.0</td>\n",
       "      <td>0.0</td>\n",
       "      <td>0.0</td>\n",
       "      <td>0.0</td>\n",
       "      <td>...</td>\n",
       "      <td>0.0</td>\n",
       "      <td>0.0</td>\n",
       "      <td>0.0</td>\n",
       "      <td>0.0</td>\n",
       "      <td>0.0</td>\n",
       "      <td>0.0</td>\n",
       "      <td>0.0</td>\n",
       "      <td>0.0</td>\n",
       "      <td>0.0</td>\n",
       "      <td>0.0</td>\n",
       "    </tr>\n",
       "    <tr>\n",
       "      <th>1</th>\n",
       "      <td>DO223588BLCA-US</td>\n",
       "      <td>BLCA-US</td>\n",
       "      <td>0.0</td>\n",
       "      <td>0.0</td>\n",
       "      <td>0.0</td>\n",
       "      <td>0.0</td>\n",
       "      <td>0.0</td>\n",
       "      <td>0.0</td>\n",
       "      <td>0.0</td>\n",
       "      <td>0.0</td>\n",
       "      <td>...</td>\n",
       "      <td>0.0</td>\n",
       "      <td>0.0</td>\n",
       "      <td>0.0</td>\n",
       "      <td>0.0</td>\n",
       "      <td>0.0</td>\n",
       "      <td>0.0</td>\n",
       "      <td>0.0</td>\n",
       "      <td>0.0</td>\n",
       "      <td>0.0</td>\n",
       "      <td>0.0</td>\n",
       "    </tr>\n",
       "    <tr>\n",
       "      <th>2</th>\n",
       "      <td>DO51948BLCA-US</td>\n",
       "      <td>BLCA-US</td>\n",
       "      <td>0.0</td>\n",
       "      <td>0.0</td>\n",
       "      <td>0.0</td>\n",
       "      <td>0.0</td>\n",
       "      <td>0.0</td>\n",
       "      <td>0.0</td>\n",
       "      <td>0.0</td>\n",
       "      <td>0.0</td>\n",
       "      <td>...</td>\n",
       "      <td>0.0</td>\n",
       "      <td>0.0</td>\n",
       "      <td>0.0</td>\n",
       "      <td>0.0</td>\n",
       "      <td>0.0</td>\n",
       "      <td>0.0</td>\n",
       "      <td>0.0</td>\n",
       "      <td>0.0</td>\n",
       "      <td>0.0</td>\n",
       "      <td>0.0</td>\n",
       "    </tr>\n",
       "    <tr>\n",
       "      <th>3</th>\n",
       "      <td>DO514BLCA-US</td>\n",
       "      <td>BLCA-US</td>\n",
       "      <td>0.0</td>\n",
       "      <td>0.0</td>\n",
       "      <td>0.0</td>\n",
       "      <td>0.0</td>\n",
       "      <td>0.0</td>\n",
       "      <td>0.0</td>\n",
       "      <td>0.0</td>\n",
       "      <td>0.0</td>\n",
       "      <td>...</td>\n",
       "      <td>0.0</td>\n",
       "      <td>0.0</td>\n",
       "      <td>0.0</td>\n",
       "      <td>0.0</td>\n",
       "      <td>0.0</td>\n",
       "      <td>0.0</td>\n",
       "      <td>0.0</td>\n",
       "      <td>0.0</td>\n",
       "      <td>0.0</td>\n",
       "      <td>0.0</td>\n",
       "    </tr>\n",
       "    <tr>\n",
       "      <th>4</th>\n",
       "      <td>DO474BLCA-US</td>\n",
       "      <td>BLCA-US</td>\n",
       "      <td>0.0</td>\n",
       "      <td>0.0</td>\n",
       "      <td>0.0</td>\n",
       "      <td>0.0</td>\n",
       "      <td>0.0</td>\n",
       "      <td>0.0</td>\n",
       "      <td>0.0</td>\n",
       "      <td>0.0</td>\n",
       "      <td>...</td>\n",
       "      <td>0.0</td>\n",
       "      <td>0.0</td>\n",
       "      <td>0.0</td>\n",
       "      <td>0.0</td>\n",
       "      <td>0.0</td>\n",
       "      <td>0.0</td>\n",
       "      <td>0.0</td>\n",
       "      <td>0.0</td>\n",
       "      <td>0.0</td>\n",
       "      <td>0.0</td>\n",
       "    </tr>\n",
       "  </tbody>\n",
       "</table>\n",
       "<p>5 rows × 20266 columns</p>\n",
       "</div>"
      ],
      "text/plain": [
       "          DonorIDs CancerType  MU1899169  MU1957569  MU1957631  MU1957694  \\\n",
       "0   DO48566BLCA-US    BLCA-US        0.0        0.0        0.0        0.0   \n",
       "1  DO223588BLCA-US    BLCA-US        0.0        0.0        0.0        0.0   \n",
       "2   DO51948BLCA-US    BLCA-US        0.0        0.0        0.0        0.0   \n",
       "3     DO514BLCA-US    BLCA-US        0.0        0.0        0.0        0.0   \n",
       "4     DO474BLCA-US    BLCA-US        0.0        0.0        0.0        0.0   \n",
       "\n",
       "   MU1957756  MU1957895  MU1957974  MU1958009  ...  MU130696800  MU122201  \\\n",
       "0        0.0        0.0        0.0        0.0  ...          0.0       0.0   \n",
       "1        0.0        0.0        0.0        0.0  ...          0.0       0.0   \n",
       "2        0.0        0.0        0.0        0.0  ...          0.0       0.0   \n",
       "3        0.0        0.0        0.0        0.0  ...          0.0       0.0   \n",
       "4        0.0        0.0        0.0        0.0  ...          0.0       0.0   \n",
       "\n",
       "   MU129795540  MU129540995  MU4885648  MU4468  MU866  MU62030  MU131898417  \\\n",
       "0          0.0          0.0        0.0     0.0    0.0      0.0          0.0   \n",
       "1          0.0          0.0        0.0     0.0    0.0      0.0          0.0   \n",
       "2          0.0          0.0        0.0     0.0    0.0      0.0          0.0   \n",
       "3          0.0          0.0        0.0     0.0    0.0      0.0          0.0   \n",
       "4          0.0          0.0        0.0     0.0    0.0      0.0          0.0   \n",
       "\n",
       "   MU131867962  \n",
       "0          0.0  \n",
       "1          0.0  \n",
       "2          0.0  \n",
       "3          0.0  \n",
       "4          0.0  \n",
       "\n",
       "[5 rows x 20266 columns]"
      ]
     },
     "execution_count": 32,
     "metadata": {},
     "output_type": "execute_result"
    }
   ],
   "source": [
    "print(uniq_binary_enc.shape)\n",
    "uniq_binary_enc.head()"
   ]
  },
  {
   "cell_type": "code",
   "execution_count": 33,
   "metadata": {},
   "outputs": [],
   "source": [
    "uniq_binary_enc.to_csv('binary_encodings.csv')"
   ]
  },
  {
   "cell_type": "code",
   "execution_count": 17,
   "metadata": {},
   "outputs": [],
   "source": [
    "unique_donors = np.unique(np.array(all_cancer_df.DonorId))"
   ]
  },
  {
   "cell_type": "code",
   "execution_count": 18,
   "metadata": {},
   "outputs": [
    {
     "data": {
      "text/plain": [
       "3364"
      ]
     },
     "execution_count": 18,
     "metadata": {},
     "output_type": "execute_result"
    }
   ],
   "source": [
    "len(unique_donors)"
   ]
  },
  {
   "cell_type": "code",
   "execution_count": 19,
   "metadata": {},
   "outputs": [
    {
     "ename": "KeyError",
     "evalue": "\"None of [Int64Index([ 7, 12, 12,  9,  3, 16,  4,  6,  6,  5,\\n            ...\\n             1,  5,  4,  2,  3,  2,  3, 13, 11,  4],\\n           dtype='int64', length=2534373)] are in the [columns]\"",
     "output_type": "error",
     "traceback": [
      "\u001b[1;31m---------------------------------------------------------------------------\u001b[0m",
      "\u001b[1;31mKeyError\u001b[0m                                  Traceback (most recent call last)",
      "\u001b[1;32m<ipython-input-19-dacd07d40786>\u001b[0m in \u001b[0;36m<module>\u001b[1;34m\u001b[0m\n\u001b[1;32m----> 1\u001b[1;33m \u001b[0mall_cancer_df_filtered\u001b[0m \u001b[1;33m=\u001b[0m \u001b[0mall_cancer_df\u001b[0m\u001b[1;33m[\u001b[0m\u001b[0mall_cancer_df\u001b[0m\u001b[1;33m.\u001b[0m\u001b[0mCount\u001b[0m\u001b[1;33m]\u001b[0m\u001b[1;33m\u001b[0m\u001b[1;33m\u001b[0m\u001b[0m\n\u001b[0m",
      "\u001b[1;32m~\\Anaconda3\\lib\\site-packages\\pandas\\core\\frame.py\u001b[0m in \u001b[0;36m__getitem__\u001b[1;34m(self, key)\u001b[0m\n\u001b[0;32m   2932\u001b[0m                 \u001b[0mkey\u001b[0m \u001b[1;33m=\u001b[0m \u001b[0mlist\u001b[0m\u001b[1;33m(\u001b[0m\u001b[0mkey\u001b[0m\u001b[1;33m)\u001b[0m\u001b[1;33m\u001b[0m\u001b[1;33m\u001b[0m\u001b[0m\n\u001b[0;32m   2933\u001b[0m             indexer = self.loc._convert_to_indexer(key, axis=1,\n\u001b[1;32m-> 2934\u001b[1;33m                                                    raise_missing=True)\n\u001b[0m\u001b[0;32m   2935\u001b[0m \u001b[1;33m\u001b[0m\u001b[0m\n\u001b[0;32m   2936\u001b[0m         \u001b[1;31m# take() does not accept boolean indexers\u001b[0m\u001b[1;33m\u001b[0m\u001b[1;33m\u001b[0m\u001b[1;33m\u001b[0m\u001b[0m\n",
      "\u001b[1;32m~\\Anaconda3\\lib\\site-packages\\pandas\\core\\indexing.py\u001b[0m in \u001b[0;36m_convert_to_indexer\u001b[1;34m(self, obj, axis, is_setter, raise_missing)\u001b[0m\n\u001b[0;32m   1352\u001b[0m                 kwargs = {'raise_missing': True if is_setter else\n\u001b[0;32m   1353\u001b[0m                           raise_missing}\n\u001b[1;32m-> 1354\u001b[1;33m                 \u001b[1;32mreturn\u001b[0m \u001b[0mself\u001b[0m\u001b[1;33m.\u001b[0m\u001b[0m_get_listlike_indexer\u001b[0m\u001b[1;33m(\u001b[0m\u001b[0mobj\u001b[0m\u001b[1;33m,\u001b[0m \u001b[0maxis\u001b[0m\u001b[1;33m,\u001b[0m \u001b[1;33m**\u001b[0m\u001b[0mkwargs\u001b[0m\u001b[1;33m)\u001b[0m\u001b[1;33m[\u001b[0m\u001b[1;36m1\u001b[0m\u001b[1;33m]\u001b[0m\u001b[1;33m\u001b[0m\u001b[1;33m\u001b[0m\u001b[0m\n\u001b[0m\u001b[0;32m   1355\u001b[0m         \u001b[1;32melse\u001b[0m\u001b[1;33m:\u001b[0m\u001b[1;33m\u001b[0m\u001b[1;33m\u001b[0m\u001b[0m\n\u001b[0;32m   1356\u001b[0m             \u001b[1;32mtry\u001b[0m\u001b[1;33m:\u001b[0m\u001b[1;33m\u001b[0m\u001b[1;33m\u001b[0m\u001b[0m\n",
      "\u001b[1;32m~\\Anaconda3\\lib\\site-packages\\pandas\\core\\indexing.py\u001b[0m in \u001b[0;36m_get_listlike_indexer\u001b[1;34m(self, key, axis, raise_missing)\u001b[0m\n\u001b[0;32m   1159\u001b[0m         self._validate_read_indexer(keyarr, indexer,\n\u001b[0;32m   1160\u001b[0m                                     \u001b[0mo\u001b[0m\u001b[1;33m.\u001b[0m\u001b[0m_get_axis_number\u001b[0m\u001b[1;33m(\u001b[0m\u001b[0maxis\u001b[0m\u001b[1;33m)\u001b[0m\u001b[1;33m,\u001b[0m\u001b[1;33m\u001b[0m\u001b[1;33m\u001b[0m\u001b[0m\n\u001b[1;32m-> 1161\u001b[1;33m                                     raise_missing=raise_missing)\n\u001b[0m\u001b[0;32m   1162\u001b[0m         \u001b[1;32mreturn\u001b[0m \u001b[0mkeyarr\u001b[0m\u001b[1;33m,\u001b[0m \u001b[0mindexer\u001b[0m\u001b[1;33m\u001b[0m\u001b[1;33m\u001b[0m\u001b[0m\n\u001b[0;32m   1163\u001b[0m \u001b[1;33m\u001b[0m\u001b[0m\n",
      "\u001b[1;32m~\\Anaconda3\\lib\\site-packages\\pandas\\core\\indexing.py\u001b[0m in \u001b[0;36m_validate_read_indexer\u001b[1;34m(self, key, indexer, axis, raise_missing)\u001b[0m\n\u001b[0;32m   1244\u001b[0m                 raise KeyError(\n\u001b[0;32m   1245\u001b[0m                     u\"None of [{key}] are in the [{axis}]\".format(\n\u001b[1;32m-> 1246\u001b[1;33m                         key=key, axis=self.obj._get_axis_name(axis)))\n\u001b[0m\u001b[0;32m   1247\u001b[0m \u001b[1;33m\u001b[0m\u001b[0m\n\u001b[0;32m   1248\u001b[0m             \u001b[1;31m# We (temporarily) allow for some missing keys with .loc, except in\u001b[0m\u001b[1;33m\u001b[0m\u001b[1;33m\u001b[0m\u001b[1;33m\u001b[0m\u001b[0m\n",
      "\u001b[1;31mKeyError\u001b[0m: \"None of [Int64Index([ 7, 12, 12,  9,  3, 16,  4,  6,  6,  5,\\n            ...\\n             1,  5,  4,  2,  3,  2,  3, 13, 11,  4],\\n           dtype='int64', length=2534373)] are in the [columns]\""
     ]
    }
   ],
   "source": [
    "all_cancer_df_filtered = all_cancer_df[all_cancer_df.Count]"
   ]
  },
  {
   "cell_type": "code",
   "execution_count": 7,
   "metadata": {},
   "outputs": [],
   "source": [
    "\"\"\"\n",
    "This function looks at each class and computes the number of donors, \n",
    "average number of mutations and features.\n",
    "\"\"\"\n",
    "def look(cancer_code):\n",
    "    DATA_PATH = 'data/'\n",
    "    PATH = DATA_PATH + cancer_code + '/'\n",
    "    \n",
    "    feat = []\n",
    "    ids = []\n",
    "    donors = []\n",
    "    chromosomes = []\n",
    "    \n",
    "    all_files = [file for file in listdir(PATH)]\n",
    "    \n",
    "    for file in all_files:\n",
    "        df = pd.read_csv(PATH + file, sep='\\t')\n",
    "        feat.append(len(df.columns))\n",
    "        ids.append(len(set(df['icgc_mutation_id'])))\n",
    "        donors.append(len(set(df['icgc_donor_id'])))\n",
    "        \n",
    "        # Repeatedly union the set of chromosomes for each donor\n",
    "        chromosomes += list(df['chromosome'].apply(str))\n",
    "    \n",
    "    print('*' * 40)\n",
    "    print('Project code: ', cancer_code)\n",
    "    \n",
    "    try:\n",
    "        print('Average number of features: {}'.format(mean(feat)))\n",
    "        print('Average number of mutations: {}'.format(mean(ids)))\n",
    "        print('Number of donors: {}'.format(sum(donors)))\n",
    "        print('Chromosomes: {}'.format(set(chromosomes)))\n",
    "    except:\n",
    "        print(NULL)"
   ]
  },
  {
   "cell_type": "code",
   "execution_count": 8,
   "metadata": {},
   "outputs": [
    {
     "name": "stdout",
     "output_type": "stream",
     "text": [
      "****************************************\n",
      "Project code:  BLCA-US\n",
      "Average number of features: 42\n",
      "Average number of mutations: 55.48048780487805\n",
      "Number of donors: 410\n",
      "Chromosomes: {'4', '9', '7', '10', 'Y', '8', '16', '11', '18', '17', '5', '14', '1', '2', '22', 'X', '20', '3', '21', '15', '13', '19', '6', '12'}\n",
      "****************************************\n",
      "Project code:  BRCA-US\n",
      "Average number of features: 42\n",
      "Average number of mutations: 130.88801571709234\n",
      "Number of donors: 1018\n",
      "Chromosomes: {'4', '9', '7', '10', 'Y', '8', '16', '11', '18', '17', '5', '14', '1', '2', '22', 'X', '20', '3', '21', '15', '13', '19', '6', '12'}\n",
      "****************************************\n",
      "Project code:  COAD-US\n",
      "Average number of features: 42\n",
      "Average number of mutations: 1949.2\n",
      "Number of donors: 280\n",
      "Chromosomes: {'4', '9', '7', '10', 'Y', '8', '16', '18', '11', '5', '17', '14', '1', '2', '22', 'X', '20', '3', '21', '15', '13', '19', '6', '12'}\n",
      "****************************************\n",
      "Project code:  GBM-US\n",
      "Average number of features: 42\n",
      "Average number of mutations: 188.38186813186815\n",
      "Number of donors: 364\n",
      "Chromosomes: {'4', '9', '7', '10', 'Y', '8', '16', '11', '18', '5', '17', '14', '1', '2', '22', 'X', '20', '3', '21', '15', '13', '19', '6', '12'}\n",
      "****************************************\n",
      "Project code:  KIRC-US\n",
      "Average number of features: 42\n",
      "Average number of mutations: 106.89270386266094\n",
      "Number of donors: 233\n",
      "Chromosomes: {'4', '9', '7', '10', 'Y', '8', '16', '11', '18', '17', '5', '14', '1', '2', '22', 'X', '20', '3', '21', '15', '13', '19', '6', '12'}\n",
      "****************************************\n",
      "Project code:  LGG-US\n",
      "Average number of features: 42\n",
      "Average number of mutations: 175.17207792207793\n",
      "Number of donors: 308\n",
      "Chromosomes: {'4', '9', '7', '10', 'Y', '8', '16', '11', '18', '5', '17', '14', '1', '2', '22', 'X', '20', '3', '21', '15', '13', '19', '6', '12'}\n",
      "****************************************\n",
      "Project code:  LUSC-US\n",
      "Average number of features: 42\n",
      "Average number of mutations: 9.411157024793388\n",
      "Number of donors: 484\n",
      "Chromosomes: {'9', '7', '10', '8', '11', '5', '17', '14', '1', '2', '22', 'X', '20', '3', '15', '13', '19', '6', '12'}\n",
      "****************************************\n",
      "Project code:  OV-US\n",
      "Average number of features: 42\n",
      "Average number of mutations: 105.53217821782178\n",
      "Number of donors: 404\n",
      "Chromosomes: {'4', '9', '7', '10', '8', '16', '11', '18', '17', '5', '14', '1', '2', '22', 'X', '20', '3', '21', '15', '13', '19', '6', '12'}\n",
      "****************************************\n",
      "Project code:  PRAD-US\n",
      "Average number of features: 42\n",
      "Average number of mutations: 25.90277777777778\n",
      "Number of donors: 144\n",
      "Chromosomes: {'4', '9', '7', '10', 'Y', '8', '16', '11', '18', '17', '5', '14', '1', '2', '22', 'X', '20', '3', '21', '15', '13', '19', '6', '12'}\n",
      "****************************************\n",
      "Project code:  SKCM-US\n",
      "Average number of features: 42\n",
      "Average number of mutations: 1890.2366666666667\n",
      "Number of donors: 300\n",
      "Chromosomes: {'4', '9', '7', '10', 'Y', '8', '16', '11', '18', '5', '17', '14', '1', '2', '22', 'X', '20', '3', '21', '15', '13', '19', '6', '12'}\n",
      "****************************************\n",
      "Project code:  THCA-US\n",
      "Average number of features: 42\n",
      "Average number of mutations: 41.88135593220339\n",
      "Number of donors: 295\n",
      "Chromosomes: {'4', '9', '7', '10', 'Y', '8', '16', '11', '18', '17', '5', '14', '1', '2', '22', 'X', '20', '3', '21', '15', '13', '19', '6', '12'}\n",
      "****************************************\n",
      "Project code:  UCEC-US\n",
      "Average number of features: 42\n",
      "Average number of mutations: 3093.343108504399\n",
      "Number of donors: 341\n",
      "Chromosomes: {'4', '9', '7', '10', '8', '16', '18', '11', '5', '17', '14', '1', '2', '22', 'X', '20', '3', '21', '15', '13', '19', '6', '12'}\n"
     ]
    }
   ],
   "source": [
    "folders = [file for file in listdir('data') if 'US' in file]\n",
    "for cancer in folders:\n",
    "    look(cancer)"
   ]
  },
  {
   "cell_type": "markdown",
   "metadata": {},
   "source": [
    "### Reading in each file\n",
    "Each file represents one individual. We could probably use the project_code feature as our target/output."
   ]
  },
  {
   "cell_type": "code",
   "execution_count": 9,
   "metadata": {},
   "outputs": [],
   "source": [
    "df = pd.read_csv('data/BRCA-US/simple_somatic_mutation.open-2020-03-02T154602.752.tsv', sep='\\t')"
   ]
  },
  {
   "cell_type": "code",
   "execution_count": 10,
   "metadata": {},
   "outputs": [
    {
     "name": "stdout",
     "output_type": "stream",
     "text": [
      "Number of features: 42\n",
      "Index(['icgc_mutation_id', 'icgc_donor_id', 'project_code', 'icgc_specimen_id',\n",
      "       'icgc_sample_id', 'matched_icgc_sample_id', 'submitted_sample_id',\n",
      "       'submitted_matched_sample_id', 'chromosome', 'chromosome_start',\n",
      "       'chromosome_end', 'chromosome_strand', 'assembly_version',\n",
      "       'mutation_type', 'reference_genome_allele', 'mutated_from_allele',\n",
      "       'mutated_to_allele', 'quality_score', 'probability', 'total_read_count',\n",
      "       'mutant_allele_read_count', 'verification_status',\n",
      "       'verification_platform', 'biological_validation_status',\n",
      "       'biological_validation_platform', 'consequence_type', 'aa_mutation',\n",
      "       'cds_mutation', 'gene_affected', 'transcript_affected',\n",
      "       'gene_build_version', 'platform', 'experimental_protocol',\n",
      "       'sequencing_strategy', 'base_calling_algorithm', 'alignment_algorithm',\n",
      "       'variation_calling_algorithm', 'other_analysis_algorithm',\n",
      "       'seq_coverage', 'raw_data_repository', 'raw_data_accession',\n",
      "       'initial_data_release_date'],\n",
      "      dtype='object')\n"
     ]
    }
   ],
   "source": [
    "print('Number of features: {}'.format(len(df.columns)))\n",
    "print(df.columns)"
   ]
  },
  {
   "cell_type": "markdown",
   "metadata": {},
   "source": [
    "Notice how for one donor there are duplicate icgc_mutation_id values. Not sure what this means.\n",
    "\n",
    "Number of muations and genes affected do not match :("
   ]
  },
  {
   "cell_type": "code",
   "execution_count": null,
   "metadata": {},
   "outputs": [],
   "source": [
    "genes, counts = np.unique(df.gene_affected.to_numpy(), return_counts=True)\n",
    "genes.shape"
   ]
  },
  {
   "cell_type": "code",
   "execution_count": null,
   "metadata": {},
   "outputs": [],
   "source": [
    "# Mutation ID MU23549\n",
    "df[df['icgc_mutation_id'] == 'MU23549']"
   ]
  },
  {
   "cell_type": "markdown",
   "metadata": {},
   "source": [
    "For the files I looked at (which was only a few so far) there are 42 features."
   ]
  },
  {
   "cell_type": "markdown",
   "metadata": {},
   "source": [
    "# Some EDA"
   ]
  },
  {
   "cell_type": "code",
   "execution_count": null,
   "metadata": {},
   "outputs": [],
   "source": [
    "df.columns"
   ]
  },
  {
   "cell_type": "markdown",
   "metadata": {},
   "source": [
    "# Choices of features\n",
    "- Chromosome start and end may not be helpful though there could exist a relationship between which chromosome and the position of mutation. \n",
    "- Do not know what CDS mutation or AA mutation is. Many NaNs here.\n",
    "- Do not know how the gene_effected feature is encoded.\n",
    "- Project_code can be the target output.\n",
    "- Possibly remove start and end features with length of mutation. If a deletion then we can represent with negative number."
   ]
  },
  {
   "cell_type": "code",
   "execution_count": null,
   "metadata": {},
   "outputs": [],
   "source": [
    "# Choice of features here is due to quick look at the columns. \n",
    "# Change as you see fit.\n",
    "\n",
    "features = ['icgc_mutation_id', \n",
    "            'icgc_donor_id',\n",
    "            'icgc_sample_id', \n",
    "            'matched_icgc_sample_id', \n",
    "            'submitted_sample_id',\n",
    "            'submitted_matched_sample_id',\n",
    "            'chromosome', \n",
    "            'chromosome_start',\n",
    "            'chromosome_end',\n",
    "            'chromosome_strand',\n",
    "            'reference_genome_allele',\n",
    "            'mutated_from_allele',\n",
    "            'mutated_to_allele',\n",
    "            'consequence_type',\n",
    "            'gene_affected',\n",
    "            'total_read_count',\n",
    "            'project_code']\n",
    "\n",
    "np.unique(df[features].chromosome_strand)\n",
    "df[features][['chromosome', \n",
    "              'chromosome_start', \n",
    "              'reference_genome_allele', \n",
    "              'mutated_from_allele', \n",
    "              'mutated_to_allele']]\n",
    "\n",
    "# why would donor have two submitted samples or more?\n"
   ]
  },
  {
   "cell_type": "markdown",
   "metadata": {},
   "source": [
    "# Mutation IDs\n",
    "- There are many duplicates. There are only 213 unique mutation IDs for this donor."
   ]
  },
  {
   "cell_type": "code",
   "execution_count": null,
   "metadata": {},
   "outputs": [],
   "source": [
    "print('There are {} unique mutation IDs'.format(len(set(df[features]['icgc_mutation_id']))))"
   ]
  },
  {
   "cell_type": "code",
   "execution_count": null,
   "metadata": {},
   "outputs": [],
   "source": [
    "print('There is only {} donor in this file'.format(len(set(df[features]['icgc_donor_id']))))"
   ]
  },
  {
   "cell_type": "code",
   "execution_count": null,
   "metadata": {},
   "outputs": [],
   "source": [
    "data = df[features]"
   ]
  },
  {
   "cell_type": "code",
   "execution_count": null,
   "metadata": {},
   "outputs": [],
   "source": [
    "data.head()"
   ]
  },
  {
   "cell_type": "markdown",
   "metadata": {},
   "source": [
    "## Not all mutations are 1bp\n",
    "Some mutations involve longer sequences!"
   ]
  },
  {
   "cell_type": "code",
   "execution_count": null,
   "metadata": {},
   "outputs": [],
   "source": [
    "df[df['mutation_type'] == 'deletion of <=200bp'][['mutation_type', 'reference_genome_allele', 'mutated_from_allele', 'mutated_to_allele']].head(5)"
   ]
  },
  {
   "cell_type": "code",
   "execution_count": null,
   "metadata": {},
   "outputs": [],
   "source": [
    "set(df['consequence_type'])"
   ]
  },
  {
   "cell_type": "markdown",
   "metadata": {},
   "source": [
    "# Encoding Take 2\n",
    "### Use gene affected instead of mutation ID"
   ]
  },
  {
   "cell_type": "code",
   "execution_count": 5,
   "metadata": {},
   "outputs": [],
   "source": [
    "def mutation_gene_aff(df):\n",
    "    cancer_type = df.project_code[0]\n",
    "    donor_id = df.icgc_donor_id[0] + cancer_type\n",
    "    smaller_df = df[['icgc_mutation_id','gene_affected']]\n",
    "    unique_ids = smaller_df.drop_duplicates()\n",
    "    new_df = pd.DataFrame({\"CancerType\": cancer_type,\n",
    "                           \"DonorId\": donor_id,\n",
    "                           \"MutationId\": unique_ids['icgc_mutation_id'], \n",
    "                           \"GeneAffected\": unique_ids['gene_affected']})\n",
    "    \n",
    "    return new_df"
   ]
  },
  {
   "cell_type": "code",
   "execution_count": 6,
   "metadata": {},
   "outputs": [],
   "source": [
    "def get_mutation_gene_frames(cancer_code):\n",
    "    DATA_PATH = 'data/'\n",
    "    PATH = DATA_PATH + cancer_code + '/'\n",
    "    \n",
    "    all_files = [file for file in listdir(PATH)]\n",
    "    \n",
    "    final_df = None\n",
    "    \n",
    "    for file in all_files:\n",
    "        df = pd.read_csv(PATH + file, sep='\\t')\n",
    "        final_df = pd.concat([final_df, mutation_gene_aff(df)])\n",
    "        \n",
    "    return final_df"
   ]
  },
  {
   "cell_type": "code",
   "execution_count": 9,
   "metadata": {},
   "outputs": [],
   "source": [
    "BLCA_df = None\n",
    "BRCA_df = None\n",
    "COAD_df = None\n",
    "GBM_df = None\n",
    "KIRC_df = None\n",
    "LGG_df = None\n",
    "LUSC_df = None\n",
    "OV_df = None\n",
    "PRAD_df = None\n",
    "SKCM_df = None\n",
    "THCA_df = None\n",
    "UCEC_df = None\n",
    "cancer_names = [BLCA_df, BRCA_df, COAD_df, GBM_df, KIRC_df, LGG_df, LUSC_df, OV_df, PRAD_df, SKCM_df, THCA_df, UCEC_df]"
   ]
  },
  {
   "cell_type": "code",
   "execution_count": 10,
   "metadata": {},
   "outputs": [
    {
     "name": "stdout",
     "output_type": "stream",
     "text": [
      "BLCA-US\n",
      "BRCA-US\n",
      "COAD-US\n"
     ]
    },
    {
     "name": "stderr",
     "output_type": "stream",
     "text": [
      "C:\\Users\\khj\\Anaconda3\\lib\\site-packages\\IPython\\core\\interactiveshell.py:3185: DtypeWarning: Columns (8) have mixed types. Specify dtype option on import or set low_memory=False.\n",
      "  if (yield from self.run_code(code, result)):\n"
     ]
    },
    {
     "name": "stdout",
     "output_type": "stream",
     "text": [
      "GBM-US\n",
      "KIRC-US\n",
      "LGG-US\n",
      "LUSC-US\n",
      "OV-US\n",
      "PRAD-US\n",
      "SKCM-US\n",
      "THCA-US\n",
      "UCEC-US\n"
     ]
    }
   ],
   "source": [
    "folders = [file for file in listdir('data') if 'US' in file]\n",
    "\n",
    "i=0\n",
    "for cancer in folders:\n",
    "    print(cancer)\n",
    "    cancer_names[i] = pd.concat([cancer_names[i], \n",
    "                               get_mutation_gene_frames(cancer)])\n",
    "    cancer_names[i].reset_index(drop=True, inplace=True)\n",
    "    i = i + 1"
   ]
  },
  {
   "cell_type": "code",
   "execution_count": 11,
   "metadata": {},
   "outputs": [],
   "source": [
    "file_names = [\"BLCA_df.csv\", \"BRCA_df.csv\", \"COAD_df.csv\", \"GBM_df.csv\", \"KIRC_df.csv\", \"LGG_df.csv\", \"LUSC_df.csv\", \"OV_df.csv\", \"PRAD_df.csv\", \"SKCM_df.csv\", \"THCA_df.csv\", \"UCEC_df.csv\"]"
   ]
  },
  {
   "cell_type": "code",
   "execution_count": 14,
   "metadata": {},
   "outputs": [
    {
     "name": "stdout",
     "output_type": "stream",
     "text": [
      "(33891, 4)\n",
      "(178476, 4)\n",
      "(343184, 4)\n",
      "(103051, 4)\n",
      "(32021, 4)\n",
      "(51435, 4)\n",
      "(69, 4)\n",
      "(64614, 4)\n",
      "(5453, 4)\n",
      "(751309, 4)\n",
      "(14806, 4)\n",
      "(1250562, 4)\n"
     ]
    }
   ],
   "source": [
    "i = 0\n",
    "for df in cancer_names:\n",
    "    mutation_gene_df = df[['MutationId', 'GeneAffected']]\n",
    "    df.reset_index(drop=True, inplace=True)\n",
    "    print_for_Kaitlyn = df.drop_duplicates()\n",
    "    print(print_for_Kaitlyn.shape)\n",
    "    print_for_Kaitlyn.to_csv(file_names[i])\n",
    "    i = i + 1"
   ]
  },
  {
   "cell_type": "code",
   "execution_count": 7,
   "metadata": {},
   "outputs": [
    {
     "name": "stdout",
     "output_type": "stream",
     "text": [
      "BLCA-US\n",
      "BRCA-US\n"
     ]
    },
    {
     "ename": "KeyboardInterrupt",
     "evalue": "",
     "output_type": "error",
     "traceback": [
      "\u001b[1;31m---------------------------------------------------------------------------\u001b[0m",
      "\u001b[1;31mKeyboardInterrupt\u001b[0m                         Traceback (most recent call last)",
      "\u001b[1;32m<ipython-input-7-a208987421b6>\u001b[0m in \u001b[0;36m<module>\u001b[1;34m\u001b[0m\n\u001b[0;32m      4\u001b[0m     \u001b[0mprint\u001b[0m\u001b[1;33m(\u001b[0m\u001b[0mcancer\u001b[0m\u001b[1;33m)\u001b[0m\u001b[1;33m\u001b[0m\u001b[1;33m\u001b[0m\u001b[0m\n\u001b[0;32m      5\u001b[0m     all_cancer_gene_df = pd.concat([all_cancer_gene_df, \n\u001b[1;32m----> 6\u001b[1;33m                                get_mutation_gene_frames(cancer)])\n\u001b[0m\u001b[0;32m      7\u001b[0m \u001b[1;33m\u001b[0m\u001b[0m\n\u001b[0;32m      8\u001b[0m \u001b[0mall_cancer_gene_df\u001b[0m\u001b[1;33m.\u001b[0m\u001b[0mreset_index\u001b[0m\u001b[1;33m(\u001b[0m\u001b[0mdrop\u001b[0m\u001b[1;33m=\u001b[0m\u001b[1;32mTrue\u001b[0m\u001b[1;33m,\u001b[0m \u001b[0minplace\u001b[0m\u001b[1;33m=\u001b[0m\u001b[1;32mTrue\u001b[0m\u001b[1;33m)\u001b[0m\u001b[1;33m\u001b[0m\u001b[1;33m\u001b[0m\u001b[0m\n",
      "\u001b[1;32m<ipython-input-6-8a87eb16807f>\u001b[0m in \u001b[0;36mget_mutation_gene_frames\u001b[1;34m(cancer_code)\u001b[0m\n\u001b[0;32m      8\u001b[0m \u001b[1;33m\u001b[0m\u001b[0m\n\u001b[0;32m      9\u001b[0m     \u001b[1;32mfor\u001b[0m \u001b[0mfile\u001b[0m \u001b[1;32min\u001b[0m \u001b[0mall_files\u001b[0m\u001b[1;33m:\u001b[0m\u001b[1;33m\u001b[0m\u001b[1;33m\u001b[0m\u001b[0m\n\u001b[1;32m---> 10\u001b[1;33m         \u001b[0mdf\u001b[0m \u001b[1;33m=\u001b[0m \u001b[0mpd\u001b[0m\u001b[1;33m.\u001b[0m\u001b[0mread_csv\u001b[0m\u001b[1;33m(\u001b[0m\u001b[0mPATH\u001b[0m \u001b[1;33m+\u001b[0m \u001b[0mfile\u001b[0m\u001b[1;33m,\u001b[0m \u001b[0msep\u001b[0m\u001b[1;33m=\u001b[0m\u001b[1;34m'\\t'\u001b[0m\u001b[1;33m)\u001b[0m\u001b[1;33m\u001b[0m\u001b[1;33m\u001b[0m\u001b[0m\n\u001b[0m\u001b[0;32m     11\u001b[0m         \u001b[0mfinal_df\u001b[0m \u001b[1;33m=\u001b[0m \u001b[0mpd\u001b[0m\u001b[1;33m.\u001b[0m\u001b[0mconcat\u001b[0m\u001b[1;33m(\u001b[0m\u001b[1;33m[\u001b[0m\u001b[0mfinal_df\u001b[0m\u001b[1;33m,\u001b[0m \u001b[0mmutation_gene_aff\u001b[0m\u001b[1;33m(\u001b[0m\u001b[0mdf\u001b[0m\u001b[1;33m)\u001b[0m\u001b[1;33m]\u001b[0m\u001b[1;33m)\u001b[0m\u001b[1;33m\u001b[0m\u001b[1;33m\u001b[0m\u001b[0m\n\u001b[0;32m     12\u001b[0m \u001b[1;33m\u001b[0m\u001b[0m\n",
      "\u001b[1;32m~\\Anaconda3\\lib\\site-packages\\pandas\\io\\parsers.py\u001b[0m in \u001b[0;36mparser_f\u001b[1;34m(filepath_or_buffer, sep, delimiter, header, names, index_col, usecols, squeeze, prefix, mangle_dupe_cols, dtype, engine, converters, true_values, false_values, skipinitialspace, skiprows, skipfooter, nrows, na_values, keep_default_na, na_filter, verbose, skip_blank_lines, parse_dates, infer_datetime_format, keep_date_col, date_parser, dayfirst, iterator, chunksize, compression, thousands, decimal, lineterminator, quotechar, quoting, doublequote, escapechar, comment, encoding, dialect, tupleize_cols, error_bad_lines, warn_bad_lines, delim_whitespace, low_memory, memory_map, float_precision)\u001b[0m\n\u001b[0;32m    700\u001b[0m                     skip_blank_lines=skip_blank_lines)\n\u001b[0;32m    701\u001b[0m \u001b[1;33m\u001b[0m\u001b[0m\n\u001b[1;32m--> 702\u001b[1;33m         \u001b[1;32mreturn\u001b[0m \u001b[0m_read\u001b[0m\u001b[1;33m(\u001b[0m\u001b[0mfilepath_or_buffer\u001b[0m\u001b[1;33m,\u001b[0m \u001b[0mkwds\u001b[0m\u001b[1;33m)\u001b[0m\u001b[1;33m\u001b[0m\u001b[1;33m\u001b[0m\u001b[0m\n\u001b[0m\u001b[0;32m    703\u001b[0m \u001b[1;33m\u001b[0m\u001b[0m\n\u001b[0;32m    704\u001b[0m     \u001b[0mparser_f\u001b[0m\u001b[1;33m.\u001b[0m\u001b[0m__name__\u001b[0m \u001b[1;33m=\u001b[0m \u001b[0mname\u001b[0m\u001b[1;33m\u001b[0m\u001b[1;33m\u001b[0m\u001b[0m\n",
      "\u001b[1;32m~\\Anaconda3\\lib\\site-packages\\pandas\\io\\parsers.py\u001b[0m in \u001b[0;36m_read\u001b[1;34m(filepath_or_buffer, kwds)\u001b[0m\n\u001b[0;32m    433\u001b[0m \u001b[1;33m\u001b[0m\u001b[0m\n\u001b[0;32m    434\u001b[0m     \u001b[1;32mtry\u001b[0m\u001b[1;33m:\u001b[0m\u001b[1;33m\u001b[0m\u001b[1;33m\u001b[0m\u001b[0m\n\u001b[1;32m--> 435\u001b[1;33m         \u001b[0mdata\u001b[0m \u001b[1;33m=\u001b[0m \u001b[0mparser\u001b[0m\u001b[1;33m.\u001b[0m\u001b[0mread\u001b[0m\u001b[1;33m(\u001b[0m\u001b[0mnrows\u001b[0m\u001b[1;33m)\u001b[0m\u001b[1;33m\u001b[0m\u001b[1;33m\u001b[0m\u001b[0m\n\u001b[0m\u001b[0;32m    436\u001b[0m     \u001b[1;32mfinally\u001b[0m\u001b[1;33m:\u001b[0m\u001b[1;33m\u001b[0m\u001b[1;33m\u001b[0m\u001b[0m\n\u001b[0;32m    437\u001b[0m         \u001b[0mparser\u001b[0m\u001b[1;33m.\u001b[0m\u001b[0mclose\u001b[0m\u001b[1;33m(\u001b[0m\u001b[1;33m)\u001b[0m\u001b[1;33m\u001b[0m\u001b[1;33m\u001b[0m\u001b[0m\n",
      "\u001b[1;32m~\\Anaconda3\\lib\\site-packages\\pandas\\io\\parsers.py\u001b[0m in \u001b[0;36mread\u001b[1;34m(self, nrows)\u001b[0m\n\u001b[0;32m   1137\u001b[0m     \u001b[1;32mdef\u001b[0m \u001b[0mread\u001b[0m\u001b[1;33m(\u001b[0m\u001b[0mself\u001b[0m\u001b[1;33m,\u001b[0m \u001b[0mnrows\u001b[0m\u001b[1;33m=\u001b[0m\u001b[1;32mNone\u001b[0m\u001b[1;33m)\u001b[0m\u001b[1;33m:\u001b[0m\u001b[1;33m\u001b[0m\u001b[1;33m\u001b[0m\u001b[0m\n\u001b[0;32m   1138\u001b[0m         \u001b[0mnrows\u001b[0m \u001b[1;33m=\u001b[0m \u001b[0m_validate_integer\u001b[0m\u001b[1;33m(\u001b[0m\u001b[1;34m'nrows'\u001b[0m\u001b[1;33m,\u001b[0m \u001b[0mnrows\u001b[0m\u001b[1;33m)\u001b[0m\u001b[1;33m\u001b[0m\u001b[1;33m\u001b[0m\u001b[0m\n\u001b[1;32m-> 1139\u001b[1;33m         \u001b[0mret\u001b[0m \u001b[1;33m=\u001b[0m \u001b[0mself\u001b[0m\u001b[1;33m.\u001b[0m\u001b[0m_engine\u001b[0m\u001b[1;33m.\u001b[0m\u001b[0mread\u001b[0m\u001b[1;33m(\u001b[0m\u001b[0mnrows\u001b[0m\u001b[1;33m)\u001b[0m\u001b[1;33m\u001b[0m\u001b[1;33m\u001b[0m\u001b[0m\n\u001b[0m\u001b[0;32m   1140\u001b[0m \u001b[1;33m\u001b[0m\u001b[0m\n\u001b[0;32m   1141\u001b[0m         \u001b[1;31m# May alter columns / col_dict\u001b[0m\u001b[1;33m\u001b[0m\u001b[1;33m\u001b[0m\u001b[1;33m\u001b[0m\u001b[0m\n",
      "\u001b[1;32m~\\Anaconda3\\lib\\site-packages\\pandas\\io\\parsers.py\u001b[0m in \u001b[0;36mread\u001b[1;34m(self, nrows)\u001b[0m\n\u001b[0;32m   1993\u001b[0m     \u001b[1;32mdef\u001b[0m \u001b[0mread\u001b[0m\u001b[1;33m(\u001b[0m\u001b[0mself\u001b[0m\u001b[1;33m,\u001b[0m \u001b[0mnrows\u001b[0m\u001b[1;33m=\u001b[0m\u001b[1;32mNone\u001b[0m\u001b[1;33m)\u001b[0m\u001b[1;33m:\u001b[0m\u001b[1;33m\u001b[0m\u001b[1;33m\u001b[0m\u001b[0m\n\u001b[0;32m   1994\u001b[0m         \u001b[1;32mtry\u001b[0m\u001b[1;33m:\u001b[0m\u001b[1;33m\u001b[0m\u001b[1;33m\u001b[0m\u001b[0m\n\u001b[1;32m-> 1995\u001b[1;33m             \u001b[0mdata\u001b[0m \u001b[1;33m=\u001b[0m \u001b[0mself\u001b[0m\u001b[1;33m.\u001b[0m\u001b[0m_reader\u001b[0m\u001b[1;33m.\u001b[0m\u001b[0mread\u001b[0m\u001b[1;33m(\u001b[0m\u001b[0mnrows\u001b[0m\u001b[1;33m)\u001b[0m\u001b[1;33m\u001b[0m\u001b[1;33m\u001b[0m\u001b[0m\n\u001b[0m\u001b[0;32m   1996\u001b[0m         \u001b[1;32mexcept\u001b[0m \u001b[0mStopIteration\u001b[0m\u001b[1;33m:\u001b[0m\u001b[1;33m\u001b[0m\u001b[1;33m\u001b[0m\u001b[0m\n\u001b[0;32m   1997\u001b[0m             \u001b[1;32mif\u001b[0m \u001b[0mself\u001b[0m\u001b[1;33m.\u001b[0m\u001b[0m_first_chunk\u001b[0m\u001b[1;33m:\u001b[0m\u001b[1;33m\u001b[0m\u001b[1;33m\u001b[0m\u001b[0m\n",
      "\u001b[1;32mpandas\\_libs\\parsers.pyx\u001b[0m in \u001b[0;36mpandas._libs.parsers.TextReader.read\u001b[1;34m()\u001b[0m\n",
      "\u001b[1;32mpandas\\_libs\\parsers.pyx\u001b[0m in \u001b[0;36mpandas._libs.parsers.TextReader._read_low_memory\u001b[1;34m()\u001b[0m\n",
      "\u001b[1;32mpandas\\_libs\\parsers.pyx\u001b[0m in \u001b[0;36mpandas._libs.parsers.TextReader._read_rows\u001b[1;34m()\u001b[0m\n",
      "\u001b[1;32mpandas\\_libs\\parsers.pyx\u001b[0m in \u001b[0;36mpandas._libs.parsers.TextReader._convert_column_data\u001b[1;34m()\u001b[0m\n",
      "\u001b[1;32mpandas\\_libs\\parsers.pyx\u001b[0m in \u001b[0;36mpandas._libs.parsers.TextReader._convert_tokens\u001b[1;34m()\u001b[0m\n",
      "\u001b[1;32mpandas\\_libs\\parsers.pyx\u001b[0m in \u001b[0;36mpandas._libs.parsers.TextReader._convert_with_dtype\u001b[1;34m()\u001b[0m\n",
      "\u001b[1;32m~\\Anaconda3\\lib\\site-packages\\pandas\\core\\dtypes\\common.py\u001b[0m in \u001b[0;36mis_categorical_dtype\u001b[1;34m(arr_or_dtype)\u001b[0m\n\u001b[0;32m    570\u001b[0m \u001b[1;33m\u001b[0m\u001b[0m\n\u001b[0;32m    571\u001b[0m \u001b[1;33m\u001b[0m\u001b[0m\n\u001b[1;32m--> 572\u001b[1;33m \u001b[1;32mdef\u001b[0m \u001b[0mis_categorical_dtype\u001b[0m\u001b[1;33m(\u001b[0m\u001b[0marr_or_dtype\u001b[0m\u001b[1;33m)\u001b[0m\u001b[1;33m:\u001b[0m\u001b[1;33m\u001b[0m\u001b[1;33m\u001b[0m\u001b[0m\n\u001b[0m\u001b[0;32m    573\u001b[0m     \"\"\"\n\u001b[0;32m    574\u001b[0m     \u001b[0mCheck\u001b[0m \u001b[0mwhether\u001b[0m \u001b[0man\u001b[0m \u001b[0marray\u001b[0m\u001b[1;33m-\u001b[0m\u001b[0mlike\u001b[0m \u001b[1;32mor\u001b[0m \u001b[0mdtype\u001b[0m \u001b[1;32mis\u001b[0m \u001b[0mof\u001b[0m \u001b[0mthe\u001b[0m \u001b[0mCategorical\u001b[0m \u001b[0mdtype\u001b[0m\u001b[1;33m.\u001b[0m\u001b[1;33m\u001b[0m\u001b[1;33m\u001b[0m\u001b[0m\n",
      "\u001b[1;31mKeyboardInterrupt\u001b[0m: "
     ]
    }
   ],
   "source": [
    "folders = [file for file in listdir('data') if 'US' in file]\n",
    "all_cancer_gene_df = None\n",
    "for cancer in folders:\n",
    "    print(cancer)\n",
    "    all_cancer_gene_df = pd.concat([all_cancer_gene_df, \n",
    "                               get_mutation_gene_frames(cancer)])\n",
    "    \n",
    "all_cancer_gene_df.reset_index(drop=True, inplace=True)"
   ]
  },
  {
   "cell_type": "code",
   "execution_count": 10,
   "metadata": {},
   "outputs": [
    {
     "data": {
      "text/html": [
       "<div>\n",
       "<style scoped>\n",
       "    .dataframe tbody tr th:only-of-type {\n",
       "        vertical-align: middle;\n",
       "    }\n",
       "\n",
       "    .dataframe tbody tr th {\n",
       "        vertical-align: top;\n",
       "    }\n",
       "\n",
       "    .dataframe thead th {\n",
       "        text-align: right;\n",
       "    }\n",
       "</style>\n",
       "<table border=\"1\" class=\"dataframe\">\n",
       "  <thead>\n",
       "    <tr style=\"text-align: right;\">\n",
       "      <th></th>\n",
       "      <th>CancerType</th>\n",
       "      <th>DonorId</th>\n",
       "      <th>MutationId</th>\n",
       "      <th>GeneAffected</th>\n",
       "    </tr>\n",
       "  </thead>\n",
       "  <tbody>\n",
       "    <tr>\n",
       "      <th>0</th>\n",
       "      <td>BLCA-US</td>\n",
       "      <td>DO48566BLCA-US</td>\n",
       "      <td>MU131916556</td>\n",
       "      <td>ENSG00000141698</td>\n",
       "    </tr>\n",
       "    <tr>\n",
       "      <th>1</th>\n",
       "      <td>BLCA-US</td>\n",
       "      <td>DO48566BLCA-US</td>\n",
       "      <td>MU131916556</td>\n",
       "      <td>ENSG00000141756</td>\n",
       "    </tr>\n",
       "    <tr>\n",
       "      <th>2</th>\n",
       "      <td>BLCA-US</td>\n",
       "      <td>DO48566BLCA-US</td>\n",
       "      <td>MU63670359</td>\n",
       "      <td>ENSG00000002746</td>\n",
       "    </tr>\n",
       "    <tr>\n",
       "      <th>3</th>\n",
       "      <td>BLCA-US</td>\n",
       "      <td>DO48566BLCA-US</td>\n",
       "      <td>MU131988623</td>\n",
       "      <td>ENSG00000204252</td>\n",
       "    </tr>\n",
       "    <tr>\n",
       "      <th>4</th>\n",
       "      <td>BLCA-US</td>\n",
       "      <td>DO48566BLCA-US</td>\n",
       "      <td>MU4472758</td>\n",
       "      <td>ENSG00000144218</td>\n",
       "    </tr>\n",
       "  </tbody>\n",
       "</table>\n",
       "</div>"
      ],
      "text/plain": [
       "  CancerType         DonorId   MutationId     GeneAffected\n",
       "0    BLCA-US  DO48566BLCA-US  MU131916556  ENSG00000141698\n",
       "1    BLCA-US  DO48566BLCA-US  MU131916556  ENSG00000141756\n",
       "2    BLCA-US  DO48566BLCA-US   MU63670359  ENSG00000002746\n",
       "3    BLCA-US  DO48566BLCA-US  MU131988623  ENSG00000204252\n",
       "4    BLCA-US  DO48566BLCA-US    MU4472758  ENSG00000144218"
      ]
     },
     "execution_count": 10,
     "metadata": {},
     "output_type": "execute_result"
    }
   ],
   "source": [
    "all_cancer_gene_df.head()"
   ]
  },
  {
   "cell_type": "code",
   "execution_count": 11,
   "metadata": {},
   "outputs": [
    {
     "data": {
      "text/html": [
       "<div>\n",
       "<style scoped>\n",
       "    .dataframe tbody tr th:only-of-type {\n",
       "        vertical-align: middle;\n",
       "    }\n",
       "\n",
       "    .dataframe tbody tr th {\n",
       "        vertical-align: top;\n",
       "    }\n",
       "\n",
       "    .dataframe thead th {\n",
       "        text-align: right;\n",
       "    }\n",
       "</style>\n",
       "<table border=\"1\" class=\"dataframe\">\n",
       "  <thead>\n",
       "    <tr style=\"text-align: right;\">\n",
       "      <th></th>\n",
       "      <th>MutationId</th>\n",
       "      <th>GeneAffected</th>\n",
       "    </tr>\n",
       "  </thead>\n",
       "  <tbody>\n",
       "    <tr>\n",
       "      <th>0</th>\n",
       "      <td>MU131916556</td>\n",
       "      <td>ENSG00000141698</td>\n",
       "    </tr>\n",
       "    <tr>\n",
       "      <th>1</th>\n",
       "      <td>MU131916556</td>\n",
       "      <td>ENSG00000141756</td>\n",
       "    </tr>\n",
       "    <tr>\n",
       "      <th>2</th>\n",
       "      <td>MU63670359</td>\n",
       "      <td>ENSG00000002746</td>\n",
       "    </tr>\n",
       "    <tr>\n",
       "      <th>3</th>\n",
       "      <td>MU131988623</td>\n",
       "      <td>ENSG00000204252</td>\n",
       "    </tr>\n",
       "    <tr>\n",
       "      <th>4</th>\n",
       "      <td>MU4472758</td>\n",
       "      <td>ENSG00000144218</td>\n",
       "    </tr>\n",
       "    <tr>\n",
       "      <th>5</th>\n",
       "      <td>MU131965260</td>\n",
       "      <td>ENSG00000145244</td>\n",
       "    </tr>\n",
       "    <tr>\n",
       "      <th>6</th>\n",
       "      <td>MU129831223</td>\n",
       "      <td>ENSG00000164309</td>\n",
       "    </tr>\n",
       "    <tr>\n",
       "      <th>7</th>\n",
       "      <td>MU131868936</td>\n",
       "      <td>ENSG00000241322</td>\n",
       "    </tr>\n",
       "    <tr>\n",
       "      <th>8</th>\n",
       "      <td>MU131868936</td>\n",
       "      <td>ENSG00000251537</td>\n",
       "    </tr>\n",
       "    <tr>\n",
       "      <th>9</th>\n",
       "      <td>MU131904393</td>\n",
       "      <td>ENSG00000196832</td>\n",
       "    </tr>\n",
       "  </tbody>\n",
       "</table>\n",
       "</div>"
      ],
      "text/plain": [
       "    MutationId     GeneAffected\n",
       "0  MU131916556  ENSG00000141698\n",
       "1  MU131916556  ENSG00000141756\n",
       "2   MU63670359  ENSG00000002746\n",
       "3  MU131988623  ENSG00000204252\n",
       "4    MU4472758  ENSG00000144218\n",
       "5  MU131965260  ENSG00000145244\n",
       "6  MU129831223  ENSG00000164309\n",
       "7  MU131868936  ENSG00000241322\n",
       "8  MU131868936  ENSG00000251537\n",
       "9  MU131904393  ENSG00000196832"
      ]
     },
     "execution_count": 11,
     "metadata": {},
     "output_type": "execute_result"
    }
   ],
   "source": [
    "mutation_gene_df = all_cancer_gene_df[['MutationId', 'GeneAffected']]\n",
    "mutation_gene_df.reset_index(drop=True, inplace=True)\n",
    "mutation_gene_df.head(10)"
   ]
  },
  {
   "cell_type": "code",
   "execution_count": 118,
   "metadata": {},
   "outputs": [],
   "source": [
    "mutations_for_Kaitlyn = mutation_gene_df.drop_duplicates()\n",
    "mutations_for_Kaitlyn.to_csv('mutation_gene_list.csv')"
   ]
  },
  {
   "cell_type": "code",
   "execution_count": 12,
   "metadata": {},
   "outputs": [],
   "source": [
    "genes = mutation_gene_df['GeneAffected'].to_numpy().astype('str')"
   ]
  },
  {
   "cell_type": "code",
   "execution_count": 13,
   "metadata": {},
   "outputs": [
    {
     "name": "stdout",
     "output_type": "stream",
     "text": [
      "3847745\n",
      "34304\n"
     ]
    }
   ],
   "source": [
    "print(len(genes))\n",
    "print(len(np.unique(genes)))"
   ]
  },
  {
   "cell_type": "code",
   "execution_count": 14,
   "metadata": {},
   "outputs": [],
   "source": [
    "uniq_genes, counts = np.unique(genes, return_counts=True)\n",
    "uniq_gene_df = pd.DataFrame({'gene': uniq_genes,\n",
    "             'Count': counts})"
   ]
  },
  {
   "cell_type": "code",
   "execution_count": 15,
   "metadata": {},
   "outputs": [
    {
     "name": "stdout",
     "output_type": "stream",
     "text": [
      "(34304, 2)\n"
     ]
    },
    {
     "data": {
      "text/html": [
       "<div>\n",
       "<style scoped>\n",
       "    .dataframe tbody tr th:only-of-type {\n",
       "        vertical-align: middle;\n",
       "    }\n",
       "\n",
       "    .dataframe tbody tr th {\n",
       "        vertical-align: top;\n",
       "    }\n",
       "\n",
       "    .dataframe thead th {\n",
       "        text-align: right;\n",
       "    }\n",
       "</style>\n",
       "<table border=\"1\" class=\"dataframe\">\n",
       "  <thead>\n",
       "    <tr style=\"text-align: right;\">\n",
       "      <th></th>\n",
       "      <th>gene</th>\n",
       "      <th>Count</th>\n",
       "    </tr>\n",
       "  </thead>\n",
       "  <tbody>\n",
       "    <tr>\n",
       "      <th>0</th>\n",
       "      <td>ENSG00000000003</td>\n",
       "      <td>74</td>\n",
       "    </tr>\n",
       "    <tr>\n",
       "      <th>1</th>\n",
       "      <td>ENSG00000000005</td>\n",
       "      <td>93</td>\n",
       "    </tr>\n",
       "    <tr>\n",
       "      <th>2</th>\n",
       "      <td>ENSG00000000419</td>\n",
       "      <td>164</td>\n",
       "    </tr>\n",
       "    <tr>\n",
       "      <th>3</th>\n",
       "      <td>ENSG00000000457</td>\n",
       "      <td>191</td>\n",
       "    </tr>\n",
       "    <tr>\n",
       "      <th>4</th>\n",
       "      <td>ENSG00000000460</td>\n",
       "      <td>623</td>\n",
       "    </tr>\n",
       "  </tbody>\n",
       "</table>\n",
       "</div>"
      ],
      "text/plain": [
       "              gene  Count\n",
       "0  ENSG00000000003     74\n",
       "1  ENSG00000000005     93\n",
       "2  ENSG00000000419    164\n",
       "3  ENSG00000000457    191\n",
       "4  ENSG00000000460    623"
      ]
     },
     "execution_count": 15,
     "metadata": {},
     "output_type": "execute_result"
    }
   ],
   "source": [
    "print(uniq_gene_df.shape)\n",
    "uniq_gene_df.head()"
   ]
  },
  {
   "cell_type": "code",
   "execution_count": null,
   "metadata": {},
   "outputs": [],
   "source": [
    "uniq_gene_df.tail(10)"
   ]
  },
  {
   "cell_type": "code",
   "execution_count": null,
   "metadata": {},
   "outputs": [],
   "source": [
    "import matplotlib.pyplot as plt\n",
    "data = uniq_gene_df['Count']\n",
    "plt.hist(data, bins=50)"
   ]
  },
  {
   "cell_type": "code",
   "execution_count": 16,
   "metadata": {},
   "outputs": [
    {
     "data": {
      "text/plain": [
       "(30544, 2)"
      ]
     },
     "execution_count": 16,
     "metadata": {},
     "output_type": "execute_result"
    }
   ],
   "source": [
    "uniq_gene_df_filtered = uniq_gene_df[uniq_gene_df.Count > 9]\n",
    "uniq_gene_df_filtered.shape"
   ]
  },
  {
   "cell_type": "code",
   "execution_count": 17,
   "metadata": {},
   "outputs": [
    {
     "data": {
      "text/plain": [
       "array(['ENSG00000000003', 'ENSG00000000005', 'ENSG00000000419', ...,\n",
       "       'ENSG00000273485', 'ENSG00000273488', 'ENSG00000273489'],\n",
       "      dtype=object)"
      ]
     },
     "execution_count": 17,
     "metadata": {},
     "output_type": "execute_result"
    }
   ],
   "source": [
    "master_genes = np.array(uniq_gene_df_filtered.gene)\n",
    "master_genes = np.delete(master_genes, 30543)\n",
    "master_genes"
   ]
  },
  {
   "cell_type": "code",
   "execution_count": 158,
   "metadata": {},
   "outputs": [],
   "source": [
    "gene_df = pd.DataFrameFrameFrame({'GeneAffected': master_genes})\n",
    "gene_df.to_csv('all_genes_affected.csv')"
   ]
  },
  {
   "cell_type": "code",
   "execution_count": 25,
   "metadata": {},
   "outputs": [],
   "source": [
    "def gene_helper(df):\n",
    "    cancer_type = df.project_code[0]\n",
    "    donor_id = df.icgc_donor_id[0] + cancer_type\n",
    "    smaller_df = df[['icgc_mutation_id','gene_affected']]\n",
    "    smaller_df.drop_duplicates(inplace=True)\n",
    "    genes_only = smaller_df[['gene_affected']].to_numpy().astype('str')\n",
    "    unique_genes, counts = np.unique(genes_only, return_counts=True)\n",
    "    return cancer_type, donor_id, unique_genes, counts"
   ]
  },
  {
   "cell_type": "code",
   "execution_count": 34,
   "metadata": {},
   "outputs": [],
   "source": [
    "def katrinas_gene_function(df, cancer_code, master_genes):\n",
    "    \n",
    "    DATA_PATH = 'data/'\n",
    "    PATH = DATA_PATH + cancer_code + '/'\n",
    "    \n",
    "    all_files = [file for file in listdir(PATH)]\n",
    "    columns = ['DonorIDs', 'CancerType'] + list(master_genes)\n",
    "    final_df = df\n",
    "    k = 0\n",
    "    \n",
    "    for file in all_files:\n",
    "        temp_df = pd.read_csv(PATH + file, sep='\\t')\n",
    "        cancer_type, donor_id, unique_genes, counts = gene_helper(temp_df)\n",
    "        freq = np.zeros((len(master_genes)))\n",
    "        i = 0\n",
    "        \n",
    "        for gene in unique_genes:\n",
    "            temp = np.where(master_genes == gene)\n",
    "            if len(temp) > 0:\n",
    "                freq[temp[0]] = counts[i]\n",
    "            i = i + 1\n",
    "            if i == len(unique_genes):\n",
    "                k = k + 1\n",
    "                if k%50 == 0:\n",
    "                    print(str(k) + ' donors processed')\n",
    "                \n",
    "        row = [donor_id, cancer_type] + list(freq)\n",
    "        final_df = pd.concat([final_df, pd.DataFrame([row], columns=columns)], ignore_index=True)\n",
    "    \n",
    "    return final_df\n",
    "\n"
   ]
  },
  {
   "cell_type": "code",
   "execution_count": 26,
   "metadata": {},
   "outputs": [
    {
     "data": {
      "text/html": [
       "<div>\n",
       "<style scoped>\n",
       "    .dataframe tbody tr th:only-of-type {\n",
       "        vertical-align: middle;\n",
       "    }\n",
       "\n",
       "    .dataframe tbody tr th {\n",
       "        vertical-align: top;\n",
       "    }\n",
       "\n",
       "    .dataframe thead th {\n",
       "        text-align: right;\n",
       "    }\n",
       "</style>\n",
       "<table border=\"1\" class=\"dataframe\">\n",
       "  <thead>\n",
       "    <tr style=\"text-align: right;\">\n",
       "      <th></th>\n",
       "      <th>DonorIDs</th>\n",
       "      <th>CancerType</th>\n",
       "      <th>ENSG00000000003</th>\n",
       "      <th>ENSG00000000005</th>\n",
       "      <th>ENSG00000000419</th>\n",
       "      <th>ENSG00000000457</th>\n",
       "      <th>ENSG00000000460</th>\n",
       "      <th>ENSG00000000938</th>\n",
       "      <th>ENSG00000000971</th>\n",
       "      <th>ENSG00000001036</th>\n",
       "      <th>...</th>\n",
       "      <th>ENSG00000273456</th>\n",
       "      <th>ENSG00000273466</th>\n",
       "      <th>ENSG00000273471</th>\n",
       "      <th>ENSG00000273476</th>\n",
       "      <th>ENSG00000273477</th>\n",
       "      <th>ENSG00000273478</th>\n",
       "      <th>ENSG00000273483</th>\n",
       "      <th>ENSG00000273485</th>\n",
       "      <th>ENSG00000273488</th>\n",
       "      <th>ENSG00000273489</th>\n",
       "    </tr>\n",
       "  </thead>\n",
       "  <tbody>\n",
       "  </tbody>\n",
       "</table>\n",
       "<p>0 rows × 30545 columns</p>\n",
       "</div>"
      ],
      "text/plain": [
       "Empty DataFrame\n",
       "Columns: [DonorIDs, CancerType, ENSG00000000003, ENSG00000000005, ENSG00000000419, ENSG00000000457, ENSG00000000460, ENSG00000000938, ENSG00000000971, ENSG00000001036, ENSG00000001084, ENSG00000001167, ENSG00000001460, ENSG00000001461, ENSG00000001497, ENSG00000001561, ENSG00000001617, ENSG00000001626, ENSG00000001629, ENSG00000001630, ENSG00000001631, ENSG00000002016, ENSG00000002330, ENSG00000002549, ENSG00000002586, ENSG00000002587, ENSG00000002726, ENSG00000002745, ENSG00000002746, ENSG00000002822, ENSG00000002834, ENSG00000002919, ENSG00000002933, ENSG00000003056, ENSG00000003096, ENSG00000003137, ENSG00000003147, ENSG00000003249, ENSG00000003393, ENSG00000003400, ENSG00000003402, ENSG00000003436, ENSG00000003509, ENSG00000003756, ENSG00000003987, ENSG00000003989, ENSG00000004059, ENSG00000004139, ENSG00000004142, ENSG00000004399, ENSG00000004455, ENSG00000004468, ENSG00000004478, ENSG00000004487, ENSG00000004534, ENSG00000004660, ENSG00000004700, ENSG00000004766, ENSG00000004776, ENSG00000004777, ENSG00000004779, ENSG00000004799, ENSG00000004809, ENSG00000004838, ENSG00000004846, ENSG00000004848, ENSG00000004864, ENSG00000004866, ENSG00000004897, ENSG00000004939, ENSG00000004948, ENSG00000004961, ENSG00000004975, ENSG00000005001, ENSG00000005007, ENSG00000005020, ENSG00000005022, ENSG00000005059, ENSG00000005073, ENSG00000005075, ENSG00000005100, ENSG00000005102, ENSG00000005108, ENSG00000005156, ENSG00000005175, ENSG00000005187, ENSG00000005189, ENSG00000005194, ENSG00000005206, ENSG00000005238, ENSG00000005243, ENSG00000005249, ENSG00000005302, ENSG00000005339, ENSG00000005379, ENSG00000005381, ENSG00000005421, ENSG00000005436, ENSG00000005448, ENSG00000005469, ...]\n",
       "Index: []\n",
       "\n",
       "[0 rows x 30545 columns]"
      ]
     },
     "execution_count": 26,
     "metadata": {},
     "output_type": "execute_result"
    }
   ],
   "source": [
    "columns = ['DonorIDs', 'CancerType'] + list(master_genes)\n",
    "df2 = pd.DataFrame(columns = columns)\n",
    "df2"
   ]
  },
  {
   "cell_type": "code",
   "execution_count": 30,
   "metadata": {},
   "outputs": [
    {
     "data": {
      "text/plain": [
       "'1'"
      ]
     },
     "execution_count": 30,
     "metadata": {},
     "output_type": "execute_result"
    }
   ],
   "source": [
    "x = 1\n",
    "str(x)"
   ]
  },
  {
   "cell_type": "code",
   "execution_count": null,
   "metadata": {},
   "outputs": [],
   "source": [
    "#test\n",
    "encoding = pd.DataFrame(columns = columns)\n",
    "encoding = katrinas_gene_function(encoding, 'BRCA-US', master_genes)\n",
    "encoding.reset_index(drop=True, inplace=True)\n",
    "print(encoding.shape)\n",
    "encoding"
   ]
  },
  {
   "cell_type": "code",
   "execution_count": 35,
   "metadata": {},
   "outputs": [
    {
     "name": "stdout",
     "output_type": "stream",
     "text": [
      "BLCA-US\n"
     ]
    },
    {
     "name": "stderr",
     "output_type": "stream",
     "text": [
      "C:\\Users\\khj\\Anaconda3\\lib\\site-packages\\ipykernel_launcher.py:5: SettingWithCopyWarning: \n",
      "A value is trying to be set on a copy of a slice from a DataFrame\n",
      "\n",
      "See the caveats in the documentation: http://pandas.pydata.org/pandas-docs/stable/indexing.html#indexing-view-versus-copy\n",
      "  \"\"\"\n"
     ]
    },
    {
     "name": "stdout",
     "output_type": "stream",
     "text": [
      "50 donors processed\n",
      "100 donors processed\n",
      "150 donors processed\n",
      "200 donors processed\n",
      "250 donors processed\n",
      "300 donors processed\n",
      "350 donors processed\n",
      "400 donors processed\n",
      "BRCA-US\n",
      "50 donors processed\n",
      "100 donors processed\n",
      "150 donors processed\n",
      "200 donors processed\n",
      "250 donors processed\n",
      "300 donors processed\n",
      "350 donors processed\n",
      "400 donors processed\n",
      "450 donors processed\n",
      "500 donors processed\n",
      "550 donors processed\n",
      "600 donors processed\n",
      "650 donors processed\n",
      "700 donors processed\n",
      "750 donors processed\n",
      "800 donors processed\n",
      "850 donors processed\n",
      "900 donors processed\n",
      "950 donors processed\n",
      "1000 donors processed\n",
      "COAD-US\n"
     ]
    },
    {
     "name": "stderr",
     "output_type": "stream",
     "text": [
      "C:\\Users\\khj\\Anaconda3\\lib\\site-packages\\IPython\\core\\interactiveshell.py:3185: DtypeWarning: Columns (8) have mixed types. Specify dtype option on import or set low_memory=False.\n",
      "  if (yield from self.run_code(code, result)):\n"
     ]
    },
    {
     "name": "stdout",
     "output_type": "stream",
     "text": [
      "50 donors processed\n",
      "100 donors processed\n",
      "150 donors processed\n",
      "200 donors processed\n",
      "250 donors processed\n",
      "GBM-US\n",
      "50 donors processed\n",
      "100 donors processed\n",
      "150 donors processed\n",
      "200 donors processed\n",
      "250 donors processed\n",
      "300 donors processed\n",
      "350 donors processed\n",
      "KIRC-US\n",
      "50 donors processed\n",
      "100 donors processed\n",
      "150 donors processed\n",
      "200 donors processed\n",
      "LGG-US\n",
      "50 donors processed\n",
      "100 donors processed\n",
      "150 donors processed\n",
      "200 donors processed\n",
      "250 donors processed\n",
      "300 donors processed\n",
      "LUSC-US\n",
      "50 donors processed\n",
      "100 donors processed\n",
      "150 donors processed\n",
      "200 donors processed\n",
      "250 donors processed\n",
      "300 donors processed\n",
      "350 donors processed\n",
      "400 donors processed\n",
      "450 donors processed\n",
      "OV-US\n",
      "50 donors processed\n",
      "100 donors processed\n",
      "150 donors processed\n",
      "200 donors processed\n",
      "250 donors processed\n",
      "300 donors processed\n",
      "350 donors processed\n",
      "400 donors processed\n",
      "PRAD-US\n",
      "50 donors processed\n",
      "100 donors processed\n",
      "SKCM-US\n",
      "50 donors processed\n",
      "100 donors processed\n",
      "150 donors processed\n",
      "200 donors processed\n",
      "250 donors processed\n",
      "300 donors processed\n",
      "THCA-US\n",
      "50 donors processed\n",
      "100 donors processed\n",
      "150 donors processed\n",
      "200 donors processed\n",
      "250 donors processed\n",
      "UCEC-US\n",
      "50 donors processed\n",
      "100 donors processed\n",
      "150 donors processed\n",
      "200 donors processed\n",
      "250 donors processed\n",
      "300 donors processed\n"
     ]
    }
   ],
   "source": [
    "folders = [file for file in listdir('data') if 'US' in file]\n",
    "encodings_array = []\n",
    "i=0\n",
    "\n",
    "for cancer in folders:\n",
    "    print(cancer)\n",
    "    encoding = pd.DataFrame(columns = columns)\n",
    "    encoding = katrinas_gene_function(encoding, cancer, master_genes)\n",
    "    encoding.reset_index(drop=True, inplace=True)\n",
    "    encodings_array.append(encoding)"
   ]
  },
  {
   "cell_type": "code",
   "execution_count": 36,
   "metadata": {},
   "outputs": [
    {
     "data": {
      "text/plain": [
       "12"
      ]
     },
     "execution_count": 36,
     "metadata": {},
     "output_type": "execute_result"
    }
   ],
   "source": [
    "len(encodings_array)"
   ]
  },
  {
   "cell_type": "code",
   "execution_count": 37,
   "metadata": {},
   "outputs": [],
   "source": [
    "freq_encodings = pd.concat([encodings_array[0],\n",
    "          encodings_array[1],\n",
    "          encodings_array[2],\n",
    "          encodings_array[3],\n",
    "          encodings_array[4],\n",
    "          encodings_array[5],\n",
    "          encodings_array[6],\n",
    "          encodings_array[7],\n",
    "          encodings_array[8],\n",
    "          encodings_array[9],\n",
    "          encodings_array[10],\n",
    "          encodings_array[11]])"
   ]
  },
  {
   "cell_type": "code",
   "execution_count": 38,
   "metadata": {},
   "outputs": [
    {
     "name": "stdout",
     "output_type": "stream",
     "text": [
      "(4581, 30545)\n"
     ]
    },
    {
     "data": {
      "text/html": [
       "<div>\n",
       "<style scoped>\n",
       "    .dataframe tbody tr th:only-of-type {\n",
       "        vertical-align: middle;\n",
       "    }\n",
       "\n",
       "    .dataframe tbody tr th {\n",
       "        vertical-align: top;\n",
       "    }\n",
       "\n",
       "    .dataframe thead th {\n",
       "        text-align: right;\n",
       "    }\n",
       "</style>\n",
       "<table border=\"1\" class=\"dataframe\">\n",
       "  <thead>\n",
       "    <tr style=\"text-align: right;\">\n",
       "      <th></th>\n",
       "      <th>DonorIDs</th>\n",
       "      <th>CancerType</th>\n",
       "      <th>ENSG00000000003</th>\n",
       "      <th>ENSG00000000005</th>\n",
       "      <th>ENSG00000000419</th>\n",
       "      <th>ENSG00000000457</th>\n",
       "      <th>ENSG00000000460</th>\n",
       "      <th>ENSG00000000938</th>\n",
       "      <th>ENSG00000000971</th>\n",
       "      <th>ENSG00000001036</th>\n",
       "      <th>...</th>\n",
       "      <th>ENSG00000273456</th>\n",
       "      <th>ENSG00000273466</th>\n",
       "      <th>ENSG00000273471</th>\n",
       "      <th>ENSG00000273476</th>\n",
       "      <th>ENSG00000273477</th>\n",
       "      <th>ENSG00000273478</th>\n",
       "      <th>ENSG00000273483</th>\n",
       "      <th>ENSG00000273485</th>\n",
       "      <th>ENSG00000273488</th>\n",
       "      <th>ENSG00000273489</th>\n",
       "    </tr>\n",
       "  </thead>\n",
       "  <tbody>\n",
       "    <tr>\n",
       "      <th>0</th>\n",
       "      <td>DO48566BLCA-US</td>\n",
       "      <td>BLCA-US</td>\n",
       "      <td>0.0</td>\n",
       "      <td>0.0</td>\n",
       "      <td>0.0</td>\n",
       "      <td>2.0</td>\n",
       "      <td>3.0</td>\n",
       "      <td>0.0</td>\n",
       "      <td>2.0</td>\n",
       "      <td>0.0</td>\n",
       "      <td>...</td>\n",
       "      <td>0.0</td>\n",
       "      <td>0.0</td>\n",
       "      <td>0.0</td>\n",
       "      <td>0.0</td>\n",
       "      <td>0.0</td>\n",
       "      <td>0.0</td>\n",
       "      <td>0.0</td>\n",
       "      <td>0.0</td>\n",
       "      <td>0.0</td>\n",
       "      <td>0.0</td>\n",
       "    </tr>\n",
       "    <tr>\n",
       "      <th>1</th>\n",
       "      <td>DO223588BLCA-US</td>\n",
       "      <td>BLCA-US</td>\n",
       "      <td>0.0</td>\n",
       "      <td>0.0</td>\n",
       "      <td>0.0</td>\n",
       "      <td>0.0</td>\n",
       "      <td>1.0</td>\n",
       "      <td>0.0</td>\n",
       "      <td>0.0</td>\n",
       "      <td>0.0</td>\n",
       "      <td>...</td>\n",
       "      <td>0.0</td>\n",
       "      <td>1.0</td>\n",
       "      <td>0.0</td>\n",
       "      <td>0.0</td>\n",
       "      <td>0.0</td>\n",
       "      <td>0.0</td>\n",
       "      <td>1.0</td>\n",
       "      <td>0.0</td>\n",
       "      <td>0.0</td>\n",
       "      <td>0.0</td>\n",
       "    </tr>\n",
       "    <tr>\n",
       "      <th>2</th>\n",
       "      <td>DO51948BLCA-US</td>\n",
       "      <td>BLCA-US</td>\n",
       "      <td>0.0</td>\n",
       "      <td>0.0</td>\n",
       "      <td>0.0</td>\n",
       "      <td>0.0</td>\n",
       "      <td>1.0</td>\n",
       "      <td>0.0</td>\n",
       "      <td>0.0</td>\n",
       "      <td>0.0</td>\n",
       "      <td>...</td>\n",
       "      <td>0.0</td>\n",
       "      <td>0.0</td>\n",
       "      <td>0.0</td>\n",
       "      <td>0.0</td>\n",
       "      <td>0.0</td>\n",
       "      <td>0.0</td>\n",
       "      <td>0.0</td>\n",
       "      <td>0.0</td>\n",
       "      <td>0.0</td>\n",
       "      <td>0.0</td>\n",
       "    </tr>\n",
       "    <tr>\n",
       "      <th>3</th>\n",
       "      <td>DO514BLCA-US</td>\n",
       "      <td>BLCA-US</td>\n",
       "      <td>0.0</td>\n",
       "      <td>0.0</td>\n",
       "      <td>0.0</td>\n",
       "      <td>0.0</td>\n",
       "      <td>1.0</td>\n",
       "      <td>3.0</td>\n",
       "      <td>0.0</td>\n",
       "      <td>0.0</td>\n",
       "      <td>...</td>\n",
       "      <td>0.0</td>\n",
       "      <td>0.0</td>\n",
       "      <td>0.0</td>\n",
       "      <td>0.0</td>\n",
       "      <td>0.0</td>\n",
       "      <td>0.0</td>\n",
       "      <td>0.0</td>\n",
       "      <td>0.0</td>\n",
       "      <td>0.0</td>\n",
       "      <td>0.0</td>\n",
       "    </tr>\n",
       "    <tr>\n",
       "      <th>4</th>\n",
       "      <td>DO474BLCA-US</td>\n",
       "      <td>BLCA-US</td>\n",
       "      <td>0.0</td>\n",
       "      <td>0.0</td>\n",
       "      <td>0.0</td>\n",
       "      <td>1.0</td>\n",
       "      <td>1.0</td>\n",
       "      <td>0.0</td>\n",
       "      <td>0.0</td>\n",
       "      <td>0.0</td>\n",
       "      <td>...</td>\n",
       "      <td>0.0</td>\n",
       "      <td>0.0</td>\n",
       "      <td>0.0</td>\n",
       "      <td>0.0</td>\n",
       "      <td>0.0</td>\n",
       "      <td>0.0</td>\n",
       "      <td>0.0</td>\n",
       "      <td>0.0</td>\n",
       "      <td>0.0</td>\n",
       "      <td>0.0</td>\n",
       "    </tr>\n",
       "  </tbody>\n",
       "</table>\n",
       "<p>5 rows × 30545 columns</p>\n",
       "</div>"
      ],
      "text/plain": [
       "          DonorIDs CancerType  ENSG00000000003  ENSG00000000005  \\\n",
       "0   DO48566BLCA-US    BLCA-US              0.0              0.0   \n",
       "1  DO223588BLCA-US    BLCA-US              0.0              0.0   \n",
       "2   DO51948BLCA-US    BLCA-US              0.0              0.0   \n",
       "3     DO514BLCA-US    BLCA-US              0.0              0.0   \n",
       "4     DO474BLCA-US    BLCA-US              0.0              0.0   \n",
       "\n",
       "   ENSG00000000419  ENSG00000000457  ENSG00000000460  ENSG00000000938  \\\n",
       "0              0.0              2.0              3.0              0.0   \n",
       "1              0.0              0.0              1.0              0.0   \n",
       "2              0.0              0.0              1.0              0.0   \n",
       "3              0.0              0.0              1.0              3.0   \n",
       "4              0.0              1.0              1.0              0.0   \n",
       "\n",
       "   ENSG00000000971  ENSG00000001036  ...  ENSG00000273456  ENSG00000273466  \\\n",
       "0              2.0              0.0  ...              0.0              0.0   \n",
       "1              0.0              0.0  ...              0.0              1.0   \n",
       "2              0.0              0.0  ...              0.0              0.0   \n",
       "3              0.0              0.0  ...              0.0              0.0   \n",
       "4              0.0              0.0  ...              0.0              0.0   \n",
       "\n",
       "   ENSG00000273471  ENSG00000273476  ENSG00000273477  ENSG00000273478  \\\n",
       "0              0.0              0.0              0.0              0.0   \n",
       "1              0.0              0.0              0.0              0.0   \n",
       "2              0.0              0.0              0.0              0.0   \n",
       "3              0.0              0.0              0.0              0.0   \n",
       "4              0.0              0.0              0.0              0.0   \n",
       "\n",
       "   ENSG00000273483  ENSG00000273485  ENSG00000273488  ENSG00000273489  \n",
       "0              0.0              0.0              0.0              0.0  \n",
       "1              1.0              0.0              0.0              0.0  \n",
       "2              0.0              0.0              0.0              0.0  \n",
       "3              0.0              0.0              0.0              0.0  \n",
       "4              0.0              0.0              0.0              0.0  \n",
       "\n",
       "[5 rows x 30545 columns]"
      ]
     },
     "execution_count": 38,
     "metadata": {},
     "output_type": "execute_result"
    }
   ],
   "source": [
    "freq_encodings.reset_index(drop=True, inplace=True)\n",
    "print(freq_encodings.shape)\n",
    "freq_encodings.head()"
   ]
  },
  {
   "cell_type": "code",
   "execution_count": 39,
   "metadata": {},
   "outputs": [
    {
     "data": {
      "text/plain": [
       "array(['BLCA-US', 'BRCA-US', 'COAD-US', 'GBM-US', 'KIRC-US', 'LGG-US',\n",
       "       'LUSC-US', 'OV-US', 'PRAD-US', 'SKCM-US', 'THCA-US', 'UCEC-US'],\n",
       "      dtype=object)"
      ]
     },
     "execution_count": 39,
     "metadata": {},
     "output_type": "execute_result"
    }
   ],
   "source": [
    "np.unique(freq_encodings.CancerType)"
   ]
  },
  {
   "cell_type": "code",
   "execution_count": 40,
   "metadata": {},
   "outputs": [],
   "source": [
    "uniq_freq_enc = freq_encodings.drop_duplicates()"
   ]
  },
  {
   "cell_type": "code",
   "execution_count": 41,
   "metadata": {},
   "outputs": [
    {
     "name": "stdout",
     "output_type": "stream",
     "text": [
      "(3364, 30545)\n"
     ]
    },
    {
     "data": {
      "text/html": [
       "<div>\n",
       "<style scoped>\n",
       "    .dataframe tbody tr th:only-of-type {\n",
       "        vertical-align: middle;\n",
       "    }\n",
       "\n",
       "    .dataframe tbody tr th {\n",
       "        vertical-align: top;\n",
       "    }\n",
       "\n",
       "    .dataframe thead th {\n",
       "        text-align: right;\n",
       "    }\n",
       "</style>\n",
       "<table border=\"1\" class=\"dataframe\">\n",
       "  <thead>\n",
       "    <tr style=\"text-align: right;\">\n",
       "      <th></th>\n",
       "      <th>DonorIDs</th>\n",
       "      <th>CancerType</th>\n",
       "      <th>ENSG00000000003</th>\n",
       "      <th>ENSG00000000005</th>\n",
       "      <th>ENSG00000000419</th>\n",
       "      <th>ENSG00000000457</th>\n",
       "      <th>ENSG00000000460</th>\n",
       "      <th>ENSG00000000938</th>\n",
       "      <th>ENSG00000000971</th>\n",
       "      <th>ENSG00000001036</th>\n",
       "      <th>...</th>\n",
       "      <th>ENSG00000273456</th>\n",
       "      <th>ENSG00000273466</th>\n",
       "      <th>ENSG00000273471</th>\n",
       "      <th>ENSG00000273476</th>\n",
       "      <th>ENSG00000273477</th>\n",
       "      <th>ENSG00000273478</th>\n",
       "      <th>ENSG00000273483</th>\n",
       "      <th>ENSG00000273485</th>\n",
       "      <th>ENSG00000273488</th>\n",
       "      <th>ENSG00000273489</th>\n",
       "    </tr>\n",
       "  </thead>\n",
       "  <tbody>\n",
       "    <tr>\n",
       "      <th>0</th>\n",
       "      <td>DO48566BLCA-US</td>\n",
       "      <td>BLCA-US</td>\n",
       "      <td>0.0</td>\n",
       "      <td>0.0</td>\n",
       "      <td>0.0</td>\n",
       "      <td>2.0</td>\n",
       "      <td>3.0</td>\n",
       "      <td>0.0</td>\n",
       "      <td>2.0</td>\n",
       "      <td>0.0</td>\n",
       "      <td>...</td>\n",
       "      <td>0.0</td>\n",
       "      <td>0.0</td>\n",
       "      <td>0.0</td>\n",
       "      <td>0.0</td>\n",
       "      <td>0.0</td>\n",
       "      <td>0.0</td>\n",
       "      <td>0.0</td>\n",
       "      <td>0.0</td>\n",
       "      <td>0.0</td>\n",
       "      <td>0.0</td>\n",
       "    </tr>\n",
       "    <tr>\n",
       "      <th>1</th>\n",
       "      <td>DO223588BLCA-US</td>\n",
       "      <td>BLCA-US</td>\n",
       "      <td>0.0</td>\n",
       "      <td>0.0</td>\n",
       "      <td>0.0</td>\n",
       "      <td>0.0</td>\n",
       "      <td>1.0</td>\n",
       "      <td>0.0</td>\n",
       "      <td>0.0</td>\n",
       "      <td>0.0</td>\n",
       "      <td>...</td>\n",
       "      <td>0.0</td>\n",
       "      <td>1.0</td>\n",
       "      <td>0.0</td>\n",
       "      <td>0.0</td>\n",
       "      <td>0.0</td>\n",
       "      <td>0.0</td>\n",
       "      <td>1.0</td>\n",
       "      <td>0.0</td>\n",
       "      <td>0.0</td>\n",
       "      <td>0.0</td>\n",
       "    </tr>\n",
       "    <tr>\n",
       "      <th>2</th>\n",
       "      <td>DO51948BLCA-US</td>\n",
       "      <td>BLCA-US</td>\n",
       "      <td>0.0</td>\n",
       "      <td>0.0</td>\n",
       "      <td>0.0</td>\n",
       "      <td>0.0</td>\n",
       "      <td>1.0</td>\n",
       "      <td>0.0</td>\n",
       "      <td>0.0</td>\n",
       "      <td>0.0</td>\n",
       "      <td>...</td>\n",
       "      <td>0.0</td>\n",
       "      <td>0.0</td>\n",
       "      <td>0.0</td>\n",
       "      <td>0.0</td>\n",
       "      <td>0.0</td>\n",
       "      <td>0.0</td>\n",
       "      <td>0.0</td>\n",
       "      <td>0.0</td>\n",
       "      <td>0.0</td>\n",
       "      <td>0.0</td>\n",
       "    </tr>\n",
       "    <tr>\n",
       "      <th>3</th>\n",
       "      <td>DO514BLCA-US</td>\n",
       "      <td>BLCA-US</td>\n",
       "      <td>0.0</td>\n",
       "      <td>0.0</td>\n",
       "      <td>0.0</td>\n",
       "      <td>0.0</td>\n",
       "      <td>1.0</td>\n",
       "      <td>3.0</td>\n",
       "      <td>0.0</td>\n",
       "      <td>0.0</td>\n",
       "      <td>...</td>\n",
       "      <td>0.0</td>\n",
       "      <td>0.0</td>\n",
       "      <td>0.0</td>\n",
       "      <td>0.0</td>\n",
       "      <td>0.0</td>\n",
       "      <td>0.0</td>\n",
       "      <td>0.0</td>\n",
       "      <td>0.0</td>\n",
       "      <td>0.0</td>\n",
       "      <td>0.0</td>\n",
       "    </tr>\n",
       "    <tr>\n",
       "      <th>4</th>\n",
       "      <td>DO474BLCA-US</td>\n",
       "      <td>BLCA-US</td>\n",
       "      <td>0.0</td>\n",
       "      <td>0.0</td>\n",
       "      <td>0.0</td>\n",
       "      <td>1.0</td>\n",
       "      <td>1.0</td>\n",
       "      <td>0.0</td>\n",
       "      <td>0.0</td>\n",
       "      <td>0.0</td>\n",
       "      <td>...</td>\n",
       "      <td>0.0</td>\n",
       "      <td>0.0</td>\n",
       "      <td>0.0</td>\n",
       "      <td>0.0</td>\n",
       "      <td>0.0</td>\n",
       "      <td>0.0</td>\n",
       "      <td>0.0</td>\n",
       "      <td>0.0</td>\n",
       "      <td>0.0</td>\n",
       "      <td>0.0</td>\n",
       "    </tr>\n",
       "  </tbody>\n",
       "</table>\n",
       "<p>5 rows × 30545 columns</p>\n",
       "</div>"
      ],
      "text/plain": [
       "          DonorIDs CancerType  ENSG00000000003  ENSG00000000005  \\\n",
       "0   DO48566BLCA-US    BLCA-US              0.0              0.0   \n",
       "1  DO223588BLCA-US    BLCA-US              0.0              0.0   \n",
       "2   DO51948BLCA-US    BLCA-US              0.0              0.0   \n",
       "3     DO514BLCA-US    BLCA-US              0.0              0.0   \n",
       "4     DO474BLCA-US    BLCA-US              0.0              0.0   \n",
       "\n",
       "   ENSG00000000419  ENSG00000000457  ENSG00000000460  ENSG00000000938  \\\n",
       "0              0.0              2.0              3.0              0.0   \n",
       "1              0.0              0.0              1.0              0.0   \n",
       "2              0.0              0.0              1.0              0.0   \n",
       "3              0.0              0.0              1.0              3.0   \n",
       "4              0.0              1.0              1.0              0.0   \n",
       "\n",
       "   ENSG00000000971  ENSG00000001036  ...  ENSG00000273456  ENSG00000273466  \\\n",
       "0              2.0              0.0  ...              0.0              0.0   \n",
       "1              0.0              0.0  ...              0.0              1.0   \n",
       "2              0.0              0.0  ...              0.0              0.0   \n",
       "3              0.0              0.0  ...              0.0              0.0   \n",
       "4              0.0              0.0  ...              0.0              0.0   \n",
       "\n",
       "   ENSG00000273471  ENSG00000273476  ENSG00000273477  ENSG00000273478  \\\n",
       "0              0.0              0.0              0.0              0.0   \n",
       "1              0.0              0.0              0.0              0.0   \n",
       "2              0.0              0.0              0.0              0.0   \n",
       "3              0.0              0.0              0.0              0.0   \n",
       "4              0.0              0.0              0.0              0.0   \n",
       "\n",
       "   ENSG00000273483  ENSG00000273485  ENSG00000273488  ENSG00000273489  \n",
       "0              0.0              0.0              0.0              0.0  \n",
       "1              1.0              0.0              0.0              0.0  \n",
       "2              0.0              0.0              0.0              0.0  \n",
       "3              0.0              0.0              0.0              0.0  \n",
       "4              0.0              0.0              0.0              0.0  \n",
       "\n",
       "[5 rows x 30545 columns]"
      ]
     },
     "execution_count": 41,
     "metadata": {},
     "output_type": "execute_result"
    }
   ],
   "source": [
    "print(uniq_freq_enc.shape)\n",
    "uniq_freq_enc.head()"
   ]
  },
  {
   "cell_type": "code",
   "execution_count": 42,
   "metadata": {},
   "outputs": [],
   "source": [
    "uniq_freq_enc.to_csv('Gene_freq_encoding.csv')"
   ]
  },
  {
   "cell_type": "code",
   "execution_count": 44,
   "metadata": {},
   "outputs": [
    {
     "data": {
      "text/plain": [
       "0        7470.0\n",
       "1        5104.0\n",
       "2        3644.0\n",
       "3        3376.0\n",
       "4        3074.0\n",
       "5        2597.0\n",
       "6        2238.0\n",
       "7        2047.0\n",
       "8        2122.0\n",
       "9        2008.0\n",
       "10          3.0\n",
       "410     10873.0\n",
       "411      2007.0\n",
       "412       298.0\n",
       "413      1916.0\n",
       "414      1788.0\n",
       "415      1741.0\n",
       "416      1725.0\n",
       "417      1610.0\n",
       "418      1518.0\n",
       "419      1361.0\n",
       "420      1267.0\n",
       "421      1174.0\n",
       "423      1098.0\n",
       "424      1041.0\n",
       "425      1008.0\n",
       "426       927.0\n",
       "427       826.0\n",
       "428       759.0\n",
       "429       712.0\n",
       "         ...   \n",
       "4551      163.0\n",
       "4552      172.0\n",
       "4553      163.0\n",
       "4554      161.0\n",
       "4555      167.0\n",
       "4556      160.0\n",
       "4557      167.0\n",
       "4558      162.0\n",
       "4559      161.0\n",
       "4560      158.0\n",
       "4561      151.0\n",
       "4562      153.0\n",
       "4563      156.0\n",
       "4564      153.0\n",
       "4565      155.0\n",
       "4566      153.0\n",
       "4567      153.0\n",
       "4568      151.0\n",
       "4569      149.0\n",
       "4570      144.0\n",
       "4571      151.0\n",
       "4572      145.0\n",
       "4573      149.0\n",
       "4574      146.0\n",
       "4575      145.0\n",
       "4576      149.0\n",
       "4577      151.0\n",
       "4578      146.0\n",
       "4579      148.0\n",
       "4580      144.0\n",
       "Length: 3364, dtype: float64"
      ]
     },
     "execution_count": 44,
     "metadata": {},
     "output_type": "execute_result"
    }
   ],
   "source": [
    "this_sum = uniq_freq_enc.sum(axis=1)\n",
    "this_sum"
   ]
  },
  {
   "cell_type": "code",
   "execution_count": 46,
   "metadata": {},
   "outputs": [
    {
     "data": {
      "text/plain": [
       "836.7693222354341"
      ]
     },
     "execution_count": 46,
     "metadata": {},
     "output_type": "execute_result"
    }
   ],
   "source": [
    "sum(this_sum)/len(this_sum)"
   ]
  },
  {
   "cell_type": "code",
   "execution_count": null,
   "metadata": {},
   "outputs": [],
   "source": []
  }
 ],
 "metadata": {
  "kernelspec": {
   "display_name": "Python 3",
   "language": "python",
   "name": "python3"
  },
  "language_info": {
   "codemirror_mode": {
    "name": "ipython",
    "version": 3
   },
   "file_extension": ".py",
   "mimetype": "text/x-python",
   "name": "python",
   "nbconvert_exporter": "python",
   "pygments_lexer": "ipython3",
   "version": "3.7.1"
  }
 },
 "nbformat": 4,
 "nbformat_minor": 4
}
