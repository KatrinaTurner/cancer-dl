{
 "cells": [
  {
   "cell_type": "code",
   "execution_count": 3,
   "metadata": {},
   "outputs": [],
   "source": [
    "import pandas as pd\n",
    "from os import listdir\n",
    "from statistics import mean\n",
    "import numpy as np"
   ]
  },
  {
   "cell_type": "code",
   "execution_count": 4,
   "metadata": {},
   "outputs": [
    {
     "data": {
      "text/plain": [
       "['.DS_Store',\n",
       " '.remove_duplicates.py.swo',\n",
       " 'BLCA-US',\n",
       " 'BRCA-US',\n",
       " 'COAD-US',\n",
       " 'full_cancer_data',\n",
       " 'GBM-US',\n",
       " 'KIRC-US',\n",
       " 'LGG-US',\n",
       " 'list_data_dirs.py',\n",
       " 'LUSC-US',\n",
       " 'organize_data.py',\n",
       " 'OV-US',\n",
       " 'PRAD-US',\n",
       " 'SKCM-US',\n",
       " 'THCA-US',\n",
       " 'UCEC-US']"
      ]
     },
     "execution_count": 4,
     "metadata": {},
     "output_type": "execute_result"
    }
   ],
   "source": [
    "listdir('data')"
   ]
  },
  {
   "cell_type": "code",
   "execution_count": null,
   "metadata": {
    "scrolled": false
   },
   "outputs": [],
   "source": [
    "# Gets unique mutation ids with number of occurrences\n",
    "# Returns new dataframe with cancer type, donor id, mutation ids and corresponding counts\n",
    "def mutation_counts(df):\n",
    "    cancer_type = df.project_code[0]\n",
    "    donor_id = df.icgc_donor_id[0] + cancer_type\n",
    "    smaller_df = df[['icgc_mutation_id']]\n",
    "    unique_ids, counts = np.unique(smaller_df.to_numpy(), \n",
    "                                   return_counts=True,\n",
    "                                  )\n",
    "    new_df = pd.DataFrame({\"CancerType\": cancer_type,\n",
    "                           \"DonorId\": donor_id,\n",
    "                           \"MutationId\": unique_ids, \n",
    "                           \"Count\": counts})\n",
    "    return new_df"
   ]
  },
  {
   "cell_type": "code",
   "execution_count": null,
   "metadata": {},
   "outputs": [],
   "source": [
    "# The mutation counts for a cancer type is returned\n",
    "def get_mutation_frames(cancer_code):\n",
    "    DATA_PATH = 'data/'\n",
    "    PATH = DATA_PATH + cancer_code + '/'\n",
    "    \n",
    "    all_files = [file for file in listdir(PATH)]\n",
    "    \n",
    "    final_df = None\n",
    "    \n",
    "    for file in all_files:\n",
    "        df = pd.read_csv(PATH + file, sep='\\t')\n",
    "        final_df = pd.concat([final_df, mutation_counts(df)])\n",
    "        \n",
    "    return final_df"
   ]
  },
  {
   "cell_type": "code",
   "execution_count": null,
   "metadata": {},
   "outputs": [],
   "source": [
    "# Go through all cancer types and get mutation dataframes\n",
    "# Concatenate all dataframes\n",
    "# This results in one dataframe for all cancer types\n",
    "\n",
    "folders = [file for file in listdir('data') if 'US' in file]\n",
    "all_cancer_df = None\n",
    "for cancer in folders:\n",
    "    all_cancer_df = pd.concat([all_cancer_df, \n",
    "                               get_mutation_frames(cancer)])\n",
    "    \n",
    "all_cancer_df.reset_index(drop=True, inplace=True)"
   ]
  },
  {
   "cell_type": "code",
   "execution_count": null,
   "metadata": {},
   "outputs": [],
   "source": [
    "all_cancer_df.head()"
   ]
  },
  {
   "cell_type": "code",
   "execution_count": null,
   "metadata": {},
   "outputs": [],
   "source": [
    "len(np.unique(mutation_gene_df['MutationId']))"
   ]
  },
  {
   "cell_type": "code",
   "execution_count": null,
   "metadata": {},
   "outputs": [],
   "source": [
    "unique_mutations, counts = np.unique(np.array(all_cancer_df.MutationId), return_counts=True)"
   ]
  },
  {
   "cell_type": "code",
   "execution_count": null,
   "metadata": {},
   "outputs": [],
   "source": [
    "mutation_df = pd.DataFrame( {'MutationID': unique_mutations, \n",
    "                             'Counts': counts} )"
   ]
  },
  {
   "cell_type": "code",
   "execution_count": null,
   "metadata": {},
   "outputs": [],
   "source": [
    "mutation_df_filtered = mutation_df[mutation_df.Counts > 4]"
   ]
  },
  {
   "cell_type": "code",
   "execution_count": null,
   "metadata": {},
   "outputs": [],
   "source": [
    "mutation_df_filtered.sort_values(by=['Counts'], inplace=True)\n",
    "mutation_df_filtered.head()"
   ]
  },
  {
   "cell_type": "code",
   "execution_count": null,
   "metadata": {},
   "outputs": [],
   "source": [
    "mutation_ids = mutation_df_filtered.MutationID"
   ]
  },
  {
   "cell_type": "code",
   "execution_count": null,
   "metadata": {},
   "outputs": [],
   "source": [
    "master_mutations = np.array(mutation_ids)"
   ]
  },
  {
   "cell_type": "code",
   "execution_count": null,
   "metadata": {},
   "outputs": [],
   "source": [
    "columns = ['DonorIDs', 'CancerType'] + list(master_mutations)\n",
    "df = pd.DataFrame(columns = columns)\n",
    "temp = np.where(master_mutations == 'IS675')\n",
    "np.zeros((len(master_mutations)))"
   ]
  },
  {
   "cell_type": "code",
   "execution_count": null,
   "metadata": {},
   "outputs": [],
   "source": [
    "def helper(df):\n",
    "    cancer_type = df.project_code[0]\n",
    "    donor_id = df.icgc_donor_id[0] + cancer_type\n",
    "    smaller_df = df[['icgc_mutation_id']]\n",
    "    unique_ids = np.unique(smaller_df.to_numpy())\n",
    "    return cancer_type, donor_id, unique_ids"
   ]
  },
  {
   "cell_type": "code",
   "execution_count": null,
   "metadata": {},
   "outputs": [],
   "source": [
    "def katrinas_function(df, cancer_code, master_mutations):\n",
    "    \n",
    "    DATA_PATH = 'data/'\n",
    "    PATH = DATA_PATH + cancer_code + '/'\n",
    "    \n",
    "    all_files = [file for file in listdir(PATH)]\n",
    "    columns = ['DonorIDs', 'CancerType'] + list(master_mutations)\n",
    "    final_df = df\n",
    "    \n",
    "    for file in all_files:\n",
    "        df = pd.read_csv(PATH + file, sep='\\t')\n",
    "        cancer_type, donor_id, unique_ids = helper(df)\n",
    "        binary = np.zeros((len(master_mutations)))\n",
    "        \n",
    "        for ids in unique_ids:\n",
    "            temp = np.where(master_mutations == ids)\n",
    "            if len(temp) > 0:\n",
    "                binary[temp[0]] = 1\n",
    "        \n",
    "        row = [donor_id, cancer_type] + list(binary)\n",
    "        final_df = pd.concat([final_df, pd.DataFrame([row], columns=columns)], ignore_index=True)\n",
    "    \n",
    "    return final_df\n",
    "\n"
   ]
  },
  {
   "cell_type": "code",
   "execution_count": null,
   "metadata": {},
   "outputs": [],
   "source": [
    "folders = [file for file in listdir('data') if 'US' in file]\n",
    "\n",
    "for cancer in folders:\n",
    "    print(cancer)"
   ]
  },
  {
   "cell_type": "code",
   "execution_count": null,
   "metadata": {},
   "outputs": [],
   "source": [
    "folders = [file for file in listdir('data') if 'US' in file]\n",
    "encodings_array = []\n",
    "i=0\n",
    "\n",
    "for cancer in folders:\n",
    "    print(cancer)\n",
    "    encoding = pd.DataFrame(columns = columns)\n",
    "    encoding = katrinas_function(encoding, cancer, master_mutations)\n",
    "    encoding.reset_index(drop=True, inplace=True)\n",
    "    encodings_array.append(encoding)"
   ]
  },
  {
   "cell_type": "code",
   "execution_count": null,
   "metadata": {},
   "outputs": [],
   "source": [
    "len(encodings_array)"
   ]
  },
  {
   "cell_type": "code",
   "execution_count": null,
   "metadata": {},
   "outputs": [],
   "source": [
    "binary_encodings = pd.concat([encodings_array[0],\n",
    "          encodings_array[1],\n",
    "          encodings_array[2],\n",
    "          encodings_array[3],\n",
    "          encodings_array[4],\n",
    "          encodings_array[5],\n",
    "          encodings_array[6],\n",
    "          encodings_array[7],\n",
    "          encodings_array[8],\n",
    "          encodings_array[9],\n",
    "          encodings_array[10],\n",
    "          encodings_array[11]])"
   ]
  },
  {
   "cell_type": "code",
   "execution_count": null,
   "metadata": {},
   "outputs": [],
   "source": [
    "binary_encodings.reset_index(drop=True, inplace=True)\n",
    "print(binary_encodings.shape)\n",
    "binary_encodings.head()"
   ]
  },
  {
   "cell_type": "code",
   "execution_count": null,
   "metadata": {},
   "outputs": [],
   "source": [
    "uniq_binary_enc = binary_encodings.drop_duplicates()"
   ]
  },
  {
   "cell_type": "code",
   "execution_count": null,
   "metadata": {},
   "outputs": [],
   "source": [
    "print(uniq_binary_enc.shape)\n",
    "uniq_binary_enc.head()"
   ]
  },
  {
   "cell_type": "code",
   "execution_count": null,
   "metadata": {},
   "outputs": [],
   "source": [
    "uniq_binary_enc.to_csv('binary_encodings.csv')"
   ]
  },
  {
   "cell_type": "code",
   "execution_count": null,
   "metadata": {},
   "outputs": [],
   "source": [
    "unique_donors = np.unique(np.array(all_cancer_df.DonorId))"
   ]
  },
  {
   "cell_type": "code",
   "execution_count": null,
   "metadata": {},
   "outputs": [],
   "source": [
    "len(unique_donors)"
   ]
  },
  {
   "cell_type": "code",
   "execution_count": null,
   "metadata": {},
   "outputs": [],
   "source": [
    "all_cancer_df_filtered = all_cancer_df[all_cancer_df.Count]"
   ]
  },
  {
   "cell_type": "code",
   "execution_count": null,
   "metadata": {},
   "outputs": [],
   "source": [
    "\"\"\"\n",
    "This function looks at each class and computes the number of donors, \n",
    "average number of mutations and features.\n",
    "\"\"\"\n",
    "def look(cancer_code):\n",
    "    DATA_PATH = 'data/'\n",
    "    PATH = DATA_PATH + cancer_code + '/'\n",
    "    \n",
    "    feat = []\n",
    "    ids = []\n",
    "    donors = []\n",
    "    chromosomes = []\n",
    "    \n",
    "    all_files = [file for file in listdir(PATH)]\n",
    "    \n",
    "    for file in all_files:\n",
    "        df = pd.read_csv(PATH + file, sep='\\t')\n",
    "        feat.append(len(df.columns))\n",
    "        ids.append(len(set(df['icgc_mutation_id'])))\n",
    "        donors.append(len(set(df['icgc_donor_id'])))\n",
    "        \n",
    "        # Repeatedly union the set of chromosomes for each donor\n",
    "        chromosomes += list(df['chromosome'].apply(str))\n",
    "    \n",
    "    print('*' * 40)\n",
    "    print('Project code: ', cancer_code)\n",
    "    \n",
    "    try:\n",
    "        print('Average number of features: {}'.format(mean(feat)))\n",
    "        print('Average number of mutations: {}'.format(mean(ids)))\n",
    "        print('Number of donors: {}'.format(sum(donors)))\n",
    "        print('Chromosomes: {}'.format(set(chromosomes)))\n",
    "    except:\n",
    "        print(NULL)"
   ]
  },
  {
   "cell_type": "code",
   "execution_count": null,
   "metadata": {},
   "outputs": [],
   "source": [
    "folders = [file for file in listdir('data') if 'US' in file]\n",
    "for cancer in folders:\n",
    "    look(cancer)"
   ]
  },
  {
   "cell_type": "markdown",
   "metadata": {},
   "source": [
    "### Reading in each file\n",
    "Each file represents one individual. We could probably use the project_code feature as our target/output."
   ]
  },
  {
   "cell_type": "code",
   "execution_count": null,
   "metadata": {},
   "outputs": [],
   "source": [
    "df = pd.read_csv('data/BRCA-US/simple_somatic_mutation.open-2020-03-02T154602.752.tsv', sep='\\t')"
   ]
  },
  {
   "cell_type": "code",
   "execution_count": null,
   "metadata": {},
   "outputs": [],
   "source": [
    "print('Number of features: {}'.format(len(df.columns)))\n",
    "print(df.columns)"
   ]
  },
  {
   "cell_type": "markdown",
   "metadata": {},
   "source": [
    "Notice how for one donor there are duplicate icgc_mutation_id values. Not sure what this means.\n",
    "\n",
    "Number of muations and genes affected do not match :("
   ]
  },
  {
   "cell_type": "code",
   "execution_count": null,
   "metadata": {},
   "outputs": [],
   "source": [
    "genes, counts = np.unique(df.gene_affected.to_numpy(), return_counts=True)\n",
    "genes.shape"
   ]
  },
  {
   "cell_type": "code",
   "execution_count": null,
   "metadata": {},
   "outputs": [],
   "source": [
    "# Mutation ID MU23549\n",
    "df[df['icgc_mutation_id'] == 'MU23549']"
   ]
  },
  {
   "cell_type": "markdown",
   "metadata": {},
   "source": [
    "For the files I looked at (which was only a few so far) there are 42 features."
   ]
  },
  {
   "cell_type": "markdown",
   "metadata": {},
   "source": [
    "# Some EDA"
   ]
  },
  {
   "cell_type": "code",
   "execution_count": null,
   "metadata": {},
   "outputs": [],
   "source": [
    "df.columns"
   ]
  },
  {
   "cell_type": "markdown",
   "metadata": {},
   "source": [
    "# Choices of features\n",
    "- Chromosome start and end may not be helpful though there could exist a relationship between which chromosome and the position of mutation. \n",
    "- Do not know what CDS mutation or AA mutation is. Many NaNs here.\n",
    "- Do not know how the gene_effected feature is encoded.\n",
    "- Project_code can be the target output.\n",
    "- Possibly remove start and end features with length of mutation. If a deletion then we can represent with negative number."
   ]
  },
  {
   "cell_type": "code",
   "execution_count": null,
   "metadata": {},
   "outputs": [],
   "source": [
    "# Choice of features here is due to quick look at the columns. \n",
    "# Change as you see fit.\n",
    "\n",
    "features = ['icgc_mutation_id', \n",
    "            'icgc_donor_id',\n",
    "            'icgc_sample_id', \n",
    "            'matched_icgc_sample_id', \n",
    "            'submitted_sample_id',\n",
    "            'submitted_matched_sample_id',\n",
    "            'chromosome', \n",
    "            'chromosome_start',\n",
    "            'chromosome_end',\n",
    "            'chromosome_strand',\n",
    "            'reference_genome_allele',\n",
    "            'mutated_from_allele',\n",
    "            'mutated_to_allele',\n",
    "            'consequence_type',\n",
    "            'gene_affected',\n",
    "            'total_read_count',\n",
    "            'project_code']\n",
    "\n",
    "np.unique(df[features].chromosome_strand)\n",
    "df[features][['chromosome', \n",
    "              'chromosome_start', \n",
    "              'reference_genome_allele', \n",
    "              'mutated_from_allele', \n",
    "              'mutated_to_allele']]\n",
    "\n",
    "# why would donor have two submitted samples or more?\n"
   ]
  },
  {
   "cell_type": "markdown",
   "metadata": {},
   "source": [
    "# Mutation IDs\n",
    "- There are many duplicates. There are only 213 unique mutation IDs for this donor."
   ]
  },
  {
   "cell_type": "code",
   "execution_count": null,
   "metadata": {},
   "outputs": [],
   "source": [
    "print('There are {} unique mutation IDs'.format(len(set(df[features]['icgc_mutation_id']))))"
   ]
  },
  {
   "cell_type": "code",
   "execution_count": null,
   "metadata": {},
   "outputs": [],
   "source": [
    "print('There is only {} donor in this file'.format(len(set(df[features]['icgc_donor_id']))))"
   ]
  },
  {
   "cell_type": "code",
   "execution_count": null,
   "metadata": {},
   "outputs": [],
   "source": [
    "data = df[features]"
   ]
  },
  {
   "cell_type": "code",
   "execution_count": null,
   "metadata": {},
   "outputs": [],
   "source": [
    "data.head()"
   ]
  },
  {
   "cell_type": "markdown",
   "metadata": {},
   "source": [
    "## Not all mutations are 1bp\n",
    "Some mutations involve longer sequences!"
   ]
  },
  {
   "cell_type": "code",
   "execution_count": null,
   "metadata": {},
   "outputs": [],
   "source": [
    "df[df['mutation_type'] == 'deletion of <=200bp'][['mutation_type', 'reference_genome_allele', 'mutated_from_allele', 'mutated_to_allele']].head(5)"
   ]
  },
  {
   "cell_type": "code",
   "execution_count": null,
   "metadata": {},
   "outputs": [],
   "source": [
    "set(df['consequence_type'])"
   ]
  },
  {
   "cell_type": "markdown",
   "metadata": {},
   "source": [
    "# Encoding Take 2\n",
    "### Use gene affected instead of mutation ID"
   ]
  },
  {
   "cell_type": "code",
   "execution_count": 29,
   "metadata": {},
   "outputs": [],
   "source": [
    "def mutation_gene_aff(df):\n",
    "    cancer_type = df.project_code[0]\n",
    "    smaller_df = df[['icgc_donor_id','icgc_mutation_id','gene_affected']]\n",
    "    unique_ids = smaller_df.drop_duplicates()\n",
    "    donor_id = unique_ids.icgc_donor_id + cancer_type\n",
    "    new_df = pd.DataFrame({\"CancerType\": cancer_type,\n",
    "                           \"DonorId\": donor_id,\n",
    "                           \"MutationId\": unique_ids['icgc_mutation_id'], \n",
    "                           \"GeneAffected\": unique_ids['gene_affected']})\n",
    "    \n",
    "    return new_df"
   ]
  },
  {
   "cell_type": "code",
   "execution_count": 34,
   "metadata": {},
   "outputs": [],
   "source": [
    "def get_mutation_gene_full():\n",
    "    PATH = 'data/full_cancer_data/'\n",
    "    \n",
    "    all_files = [file for file in listdir(PATH)]\n",
    "    \n",
    "    final_df = None\n",
    "    \n",
    "    for file in all_files:\n",
    "        df = pd.read_csv(PATH + file, sep='\\t')\n",
    "        final_df = pd.concat([final_df, mutation_gene_aff(df)])\n",
    "        \n",
    "    return final_df"
   ]
  },
  {
   "cell_type": "code",
   "execution_count": 35,
   "metadata": {},
   "outputs": [
    {
     "name": "stdout",
     "output_type": "stream",
     "text": [
      "(3653094, 4)\n",
      "unique donors:\n",
      "5987\n"
     ]
    },
    {
     "data": {
      "text/html": [
       "<div>\n",
       "<style scoped>\n",
       "    .dataframe tbody tr th:only-of-type {\n",
       "        vertical-align: middle;\n",
       "    }\n",
       "\n",
       "    .dataframe tbody tr th {\n",
       "        vertical-align: top;\n",
       "    }\n",
       "\n",
       "    .dataframe thead th {\n",
       "        text-align: right;\n",
       "    }\n",
       "</style>\n",
       "<table border=\"1\" class=\"dataframe\">\n",
       "  <thead>\n",
       "    <tr style=\"text-align: right;\">\n",
       "      <th></th>\n",
       "      <th>CancerType</th>\n",
       "      <th>DonorId</th>\n",
       "      <th>MutationId</th>\n",
       "      <th>GeneAffected</th>\n",
       "    </tr>\n",
       "  </thead>\n",
       "  <tbody>\n",
       "    <tr>\n",
       "      <th>0</th>\n",
       "      <td>BLCA-US</td>\n",
       "      <td>DO51951BLCA-US</td>\n",
       "      <td>MU129042621</td>\n",
       "      <td>ENSG00000075340</td>\n",
       "    </tr>\n",
       "    <tr>\n",
       "      <th>12</th>\n",
       "      <td>BLCA-US</td>\n",
       "      <td>DO51951BLCA-US</td>\n",
       "      <td>MU131874999</td>\n",
       "      <td>ENSG00000247077</td>\n",
       "    </tr>\n",
       "    <tr>\n",
       "      <th>16</th>\n",
       "      <td>BLCA-US</td>\n",
       "      <td>DO51951BLCA-US</td>\n",
       "      <td>MU131874999</td>\n",
       "      <td>ENSG00000256632</td>\n",
       "    </tr>\n",
       "    <tr>\n",
       "      <th>17</th>\n",
       "      <td>BLCA-US</td>\n",
       "      <td>DO51951BLCA-US</td>\n",
       "      <td>MU131874999</td>\n",
       "      <td>ENSG00000176894</td>\n",
       "    </tr>\n",
       "    <tr>\n",
       "      <th>19</th>\n",
       "      <td>BLCA-US</td>\n",
       "      <td>DO51951BLCA-US</td>\n",
       "      <td>MU28596490</td>\n",
       "      <td>ENSG00000083093</td>\n",
       "    </tr>\n",
       "  </tbody>\n",
       "</table>\n",
       "</div>"
      ],
      "text/plain": [
       "   CancerType         DonorId   MutationId     GeneAffected\n",
       "0     BLCA-US  DO51951BLCA-US  MU129042621  ENSG00000075340\n",
       "12    BLCA-US  DO51951BLCA-US  MU131874999  ENSG00000247077\n",
       "16    BLCA-US  DO51951BLCA-US  MU131874999  ENSG00000256632\n",
       "17    BLCA-US  DO51951BLCA-US  MU131874999  ENSG00000176894\n",
       "19    BLCA-US  DO51951BLCA-US   MU28596490  ENSG00000083093"
      ]
     },
     "execution_count": 35,
     "metadata": {},
     "output_type": "execute_result"
    }
   ],
   "source": [
    "test_df = get_mutation_gene_full()\n",
    "print(test_df.shape)\n",
    "print('unique donors:')\n",
    "print(len(np.unique(test_df.DonorId)))\n",
    "test_df.head()"
   ]
  },
  {
   "cell_type": "code",
   "execution_count": 41,
   "metadata": {},
   "outputs": [],
   "source": [
    "all_cancer_gene_df = test_df"
   ]
  },
  {
   "cell_type": "code",
   "execution_count": 37,
   "metadata": {},
   "outputs": [],
   "source": [
    "BLCA_df = None\n",
    "BRCA_df = None\n",
    "COAD_df = None\n",
    "GBM_df = None\n",
    "KIRC_df = None\n",
    "LGG_df = None\n",
    "LUSC_df = None\n",
    "OV_df = None\n",
    "PRAD_df = None\n",
    "SKCM_df = None\n",
    "THCA_df = None\n",
    "UCEC_df = None\n",
    "cancer_names = [BLCA_df, BRCA_df, COAD_df, GBM_df, KIRC_df, LGG_df, LUSC_df, OV_df, PRAD_df, SKCM_df, THCA_df, UCEC_df]"
   ]
  },
  {
   "cell_type": "code",
   "execution_count": 36,
   "metadata": {},
   "outputs": [],
   "source": [
    "def get_mutation_gene_ind(cancer):\n",
    "    PATH = 'data/full_cancer_data/'\n",
    "    df = pd.read_csv(PATH + cancer, sep='\\t')\n",
    "    final_df = mutation_gene_aff(df)\n",
    "        \n",
    "    return final_df"
   ]
  },
  {
   "cell_type": "markdown",
   "metadata": {},
   "source": [
    "#### Stuff for Kaitlyn's viz"
   ]
  },
  {
   "cell_type": "code",
   "execution_count": 38,
   "metadata": {},
   "outputs": [
    {
     "name": "stdout",
     "output_type": "stream",
     "text": [
      "BLCA_ssm.tsv\n",
      "BRCA_ssm.tsv\n",
      "COAD_ssm.tsv\n",
      "GBM_ssm.tsv\n",
      "KIRC_ssm.tsv\n",
      "LGG_ssm.tsv\n",
      "LUSC_ssm.tsv\n",
      "OV_ssm.tsv\n",
      "PRAD_ssm.tsv\n",
      "SKCM_ssm.tsv\n",
      "THCA_ssm.tsv\n",
      "UCEC_ssm.tsv\n"
     ]
    }
   ],
   "source": [
    "PATH = 'data/full_cancer_data/'\n",
    "    \n",
    "all_files = [file for file in listdir(PATH)]\n",
    "\n",
    "i=0\n",
    "for cancer in all_files:\n",
    "    print(cancer)\n",
    "    cancer_names[i] = pd.concat([cancer_names[i], \n",
    "                               get_mutation_gene_ind(cancer)])\n",
    "    cancer_names[i].reset_index(drop=True, inplace=True)\n",
    "    i = i + 1"
   ]
  },
  {
   "cell_type": "code",
   "execution_count": 39,
   "metadata": {},
   "outputs": [],
   "source": [
    "file_names = [\"BLCA_df.csv\", \"BRCA_df.csv\", \"COAD_df.csv\", \"GBM_df.csv\", \"KIRC_df.csv\", \"LGG_df.csv\", \"LUSC_df.csv\", \"OV_df.csv\", \"PRAD_df.csv\", \"SKCM_df.csv\", \"THCA_df.csv\", \"UCEC_df.csv\"]"
   ]
  },
  {
   "cell_type": "code",
   "execution_count": 40,
   "metadata": {},
   "outputs": [
    {
     "name": "stdout",
     "output_type": "stream",
     "text": [
      "(232272, 4)\n",
      "(185661, 4)\n",
      "(382412, 4)\n",
      "(109262, 4)\n",
      "(42843, 4)\n",
      "(61621, 4)\n",
      "(288951, 4)\n",
      "(81417, 4)\n",
      "(48050, 4)\n",
      "(816531, 4)\n",
      "(18031, 4)\n",
      "(1386043, 4)\n"
     ]
    }
   ],
   "source": [
    "i = 0\n",
    "for df in cancer_names:\n",
    "    mutation_gene_df = df[['MutationId', 'GeneAffected']]\n",
    "    df.reset_index(drop=True, inplace=True)\n",
    "    print_for_Kaitlyn = df.drop_duplicates()\n",
    "    print(print_for_Kaitlyn.shape)\n",
    "    print_for_Kaitlyn.to_csv(file_names[i])\n",
    "    i = i + 1"
   ]
  },
  {
   "cell_type": "markdown",
   "metadata": {},
   "source": [
    "#### Create Master Gene List"
   ]
  },
  {
   "cell_type": "code",
   "execution_count": 42,
   "metadata": {},
   "outputs": [
    {
     "data": {
      "text/html": [
       "<div>\n",
       "<style scoped>\n",
       "    .dataframe tbody tr th:only-of-type {\n",
       "        vertical-align: middle;\n",
       "    }\n",
       "\n",
       "    .dataframe tbody tr th {\n",
       "        vertical-align: top;\n",
       "    }\n",
       "\n",
       "    .dataframe thead th {\n",
       "        text-align: right;\n",
       "    }\n",
       "</style>\n",
       "<table border=\"1\" class=\"dataframe\">\n",
       "  <thead>\n",
       "    <tr style=\"text-align: right;\">\n",
       "      <th></th>\n",
       "      <th>MutationId</th>\n",
       "      <th>GeneAffected</th>\n",
       "    </tr>\n",
       "  </thead>\n",
       "  <tbody>\n",
       "    <tr>\n",
       "      <th>0</th>\n",
       "      <td>MU129042621</td>\n",
       "      <td>ENSG00000075340</td>\n",
       "    </tr>\n",
       "    <tr>\n",
       "      <th>1</th>\n",
       "      <td>MU131874999</td>\n",
       "      <td>ENSG00000247077</td>\n",
       "    </tr>\n",
       "    <tr>\n",
       "      <th>2</th>\n",
       "      <td>MU131874999</td>\n",
       "      <td>ENSG00000256632</td>\n",
       "    </tr>\n",
       "    <tr>\n",
       "      <th>3</th>\n",
       "      <td>MU131874999</td>\n",
       "      <td>ENSG00000176894</td>\n",
       "    </tr>\n",
       "    <tr>\n",
       "      <th>4</th>\n",
       "      <td>MU28596490</td>\n",
       "      <td>ENSG00000083093</td>\n",
       "    </tr>\n",
       "    <tr>\n",
       "      <th>5</th>\n",
       "      <td>MU11253975</td>\n",
       "      <td>ENSG00000100987</td>\n",
       "    </tr>\n",
       "    <tr>\n",
       "      <th>6</th>\n",
       "      <td>MU132005596</td>\n",
       "      <td>ENSG00000205038</td>\n",
       "    </tr>\n",
       "    <tr>\n",
       "      <th>7</th>\n",
       "      <td>MU131862503</td>\n",
       "      <td>ENSG00000196693</td>\n",
       "    </tr>\n",
       "    <tr>\n",
       "      <th>8</th>\n",
       "      <td>MU131862503</td>\n",
       "      <td>ENSG00000272373</td>\n",
       "    </tr>\n",
       "    <tr>\n",
       "      <th>9</th>\n",
       "      <td>MU132085217</td>\n",
       "      <td>ENSG00000198670</td>\n",
       "    </tr>\n",
       "  </tbody>\n",
       "</table>\n",
       "</div>"
      ],
      "text/plain": [
       "    MutationId     GeneAffected\n",
       "0  MU129042621  ENSG00000075340\n",
       "1  MU131874999  ENSG00000247077\n",
       "2  MU131874999  ENSG00000256632\n",
       "3  MU131874999  ENSG00000176894\n",
       "4   MU28596490  ENSG00000083093\n",
       "5   MU11253975  ENSG00000100987\n",
       "6  MU132005596  ENSG00000205038\n",
       "7  MU131862503  ENSG00000196693\n",
       "8  MU131862503  ENSG00000272373\n",
       "9  MU132085217  ENSG00000198670"
      ]
     },
     "execution_count": 42,
     "metadata": {},
     "output_type": "execute_result"
    }
   ],
   "source": [
    "mutation_gene_df = all_cancer_gene_df[['MutationId', 'GeneAffected']]\n",
    "mutation_gene_df.reset_index(drop=True, inplace=True)\n",
    "mutation_gene_df.head(10)"
   ]
  },
  {
   "cell_type": "code",
   "execution_count": 46,
   "metadata": {},
   "outputs": [
    {
     "name": "stdout",
     "output_type": "stream",
     "text": [
      "3653094\n",
      "34442\n",
      "(34442, 2)\n"
     ]
    },
    {
     "data": {
      "text/html": [
       "<div>\n",
       "<style scoped>\n",
       "    .dataframe tbody tr th:only-of-type {\n",
       "        vertical-align: middle;\n",
       "    }\n",
       "\n",
       "    .dataframe tbody tr th {\n",
       "        vertical-align: top;\n",
       "    }\n",
       "\n",
       "    .dataframe thead th {\n",
       "        text-align: right;\n",
       "    }\n",
       "</style>\n",
       "<table border=\"1\" class=\"dataframe\">\n",
       "  <thead>\n",
       "    <tr style=\"text-align: right;\">\n",
       "      <th></th>\n",
       "      <th>gene</th>\n",
       "      <th>Count</th>\n",
       "    </tr>\n",
       "  </thead>\n",
       "  <tbody>\n",
       "    <tr>\n",
       "      <th>0</th>\n",
       "      <td>ENSG00000000003</td>\n",
       "      <td>71</td>\n",
       "    </tr>\n",
       "    <tr>\n",
       "      <th>1</th>\n",
       "      <td>ENSG00000000005</td>\n",
       "      <td>85</td>\n",
       "    </tr>\n",
       "    <tr>\n",
       "      <th>2</th>\n",
       "      <td>ENSG00000000419</td>\n",
       "      <td>156</td>\n",
       "    </tr>\n",
       "    <tr>\n",
       "      <th>3</th>\n",
       "      <td>ENSG00000000457</td>\n",
       "      <td>166</td>\n",
       "    </tr>\n",
       "    <tr>\n",
       "      <th>4</th>\n",
       "      <td>ENSG00000000460</td>\n",
       "      <td>556</td>\n",
       "    </tr>\n",
       "  </tbody>\n",
       "</table>\n",
       "</div>"
      ],
      "text/plain": [
       "              gene  Count\n",
       "0  ENSG00000000003     71\n",
       "1  ENSG00000000005     85\n",
       "2  ENSG00000000419    156\n",
       "3  ENSG00000000457    166\n",
       "4  ENSG00000000460    556"
      ]
     },
     "execution_count": 46,
     "metadata": {},
     "output_type": "execute_result"
    }
   ],
   "source": [
    "genes = mutation_gene_df['GeneAffected'].to_numpy().astype('str')\n",
    "print(len(genes))\n",
    "print(len(np.unique(genes)))\n",
    "uniq_genes, counts = np.unique(genes, return_counts=True)\n",
    "uniq_gene_df = pd.DataFrame({'gene': uniq_genes,\n",
    "             'Count': counts})\n",
    "print(uniq_gene_df.shape)\n",
    "uniq_gene_df.head()"
   ]
  },
  {
   "cell_type": "code",
   "execution_count": 47,
   "metadata": {},
   "outputs": [
    {
     "data": {
      "text/html": [
       "<div>\n",
       "<style scoped>\n",
       "    .dataframe tbody tr th:only-of-type {\n",
       "        vertical-align: middle;\n",
       "    }\n",
       "\n",
       "    .dataframe tbody tr th {\n",
       "        vertical-align: top;\n",
       "    }\n",
       "\n",
       "    .dataframe thead th {\n",
       "        text-align: right;\n",
       "    }\n",
       "</style>\n",
       "<table border=\"1\" class=\"dataframe\">\n",
       "  <thead>\n",
       "    <tr style=\"text-align: right;\">\n",
       "      <th></th>\n",
       "      <th>gene</th>\n",
       "      <th>Count</th>\n",
       "    </tr>\n",
       "  </thead>\n",
       "  <tbody>\n",
       "    <tr>\n",
       "      <th>34432</th>\n",
       "      <td>ENSG00000273474</td>\n",
       "      <td>5</td>\n",
       "    </tr>\n",
       "    <tr>\n",
       "      <th>34433</th>\n",
       "      <td>ENSG00000273476</td>\n",
       "      <td>46</td>\n",
       "    </tr>\n",
       "    <tr>\n",
       "      <th>34434</th>\n",
       "      <td>ENSG00000273477</td>\n",
       "      <td>13</td>\n",
       "    </tr>\n",
       "    <tr>\n",
       "      <th>34435</th>\n",
       "      <td>ENSG00000273478</td>\n",
       "      <td>33</td>\n",
       "    </tr>\n",
       "    <tr>\n",
       "      <th>34436</th>\n",
       "      <td>ENSG00000273481</td>\n",
       "      <td>6</td>\n",
       "    </tr>\n",
       "    <tr>\n",
       "      <th>34437</th>\n",
       "      <td>ENSG00000273483</td>\n",
       "      <td>92</td>\n",
       "    </tr>\n",
       "    <tr>\n",
       "      <th>34438</th>\n",
       "      <td>ENSG00000273485</td>\n",
       "      <td>106</td>\n",
       "    </tr>\n",
       "    <tr>\n",
       "      <th>34439</th>\n",
       "      <td>ENSG00000273488</td>\n",
       "      <td>13</td>\n",
       "    </tr>\n",
       "    <tr>\n",
       "      <th>34440</th>\n",
       "      <td>ENSG00000273489</td>\n",
       "      <td>23</td>\n",
       "    </tr>\n",
       "    <tr>\n",
       "      <th>34441</th>\n",
       "      <td>nan</td>\n",
       "      <td>576</td>\n",
       "    </tr>\n",
       "  </tbody>\n",
       "</table>\n",
       "</div>"
      ],
      "text/plain": [
       "                  gene  Count\n",
       "34432  ENSG00000273474      5\n",
       "34433  ENSG00000273476     46\n",
       "34434  ENSG00000273477     13\n",
       "34435  ENSG00000273478     33\n",
       "34436  ENSG00000273481      6\n",
       "34437  ENSG00000273483     92\n",
       "34438  ENSG00000273485    106\n",
       "34439  ENSG00000273488     13\n",
       "34440  ENSG00000273489     23\n",
       "34441              nan    576"
      ]
     },
     "execution_count": 47,
     "metadata": {},
     "output_type": "execute_result"
    }
   ],
   "source": [
    "uniq_gene_df.tail(10)"
   ]
  },
  {
   "cell_type": "code",
   "execution_count": 49,
   "metadata": {},
   "outputs": [
    {
     "data": {
      "text/plain": [
       "(30399, 2)"
      ]
     },
     "execution_count": 49,
     "metadata": {},
     "output_type": "execute_result"
    }
   ],
   "source": [
    "uniq_gene_df_filtered = uniq_gene_df[uniq_gene_df.Count > 9]\n",
    "uniq_gene_df_filtered.shape"
   ]
  },
  {
   "cell_type": "code",
   "execution_count": 52,
   "metadata": {},
   "outputs": [
    {
     "data": {
      "text/plain": [
       "array(['ENSG00000000003', 'ENSG00000000005', 'ENSG00000000419', ...,\n",
       "       'ENSG00000273485', 'ENSG00000273488', 'ENSG00000273489'],\n",
       "      dtype=object)"
      ]
     },
     "execution_count": 52,
     "metadata": {},
     "output_type": "execute_result"
    }
   ],
   "source": [
    "master_genes = np.array(uniq_gene_df_filtered.gene)\n",
    "master_genes = np.delete(master_genes, 30398)\n",
    "master_genes"
   ]
  },
  {
   "cell_type": "code",
   "execution_count": 54,
   "metadata": {},
   "outputs": [],
   "source": [
    "gene_df = pd.DataFrame({'GeneAffected': master_genes})\n",
    "gene_df.to_csv('all_genes_affected.csv')"
   ]
  },
  {
   "cell_type": "markdown",
   "metadata": {},
   "source": [
    "### Create Encoding"
   ]
  },
  {
   "cell_type": "code",
   "execution_count": 55,
   "metadata": {},
   "outputs": [],
   "source": [
    "def gene_helper(df):\n",
    "    cancer_type = df.CancerType[0]\n",
    "    donor_id = df.DonorId[0]\n",
    "    smaller_df = df[['MutationId','GeneAffected']]\n",
    "    smaller_df.drop_duplicates(inplace=True)\n",
    "    genes_only = smaller_df[['gene_affected']].to_numpy().astype('str')\n",
    "    unique_genes, counts = np.unique(genes_only, return_counts=True)\n",
    "    return cancer_type, donor_id, unique_genes, counts"
   ]
  },
  {
   "cell_type": "code",
   "execution_count": 56,
   "metadata": {},
   "outputs": [],
   "source": [
    "def katrinas_gene_function(df, master_genes, unique_ids):\n",
    "    \n",
    "    columns = ['DonorIDs', 'CancerType'] + list(master_genes)\n",
    "    final_df = None\n",
    "    k = 0\n",
    "    \n",
    "    for donor in unique_ids:\n",
    "        temp_df = df[df.DonorId == donor]\n",
    "        \n",
    "        cancer_type, donor_id, unique_genes, counts = gene_helper(temp_df)\n",
    "        freq = np.zeros((len(master_genes)))\n",
    "        i = 0\n",
    "        \n",
    "        for gene in unique_genes:\n",
    "            temp = np.where(master_genes == gene)\n",
    "            if len(temp) > 0:\n",
    "                freq[temp[0]] = counts[i]\n",
    "            i = i + 1\n",
    "            if i == len(unique_genes):\n",
    "                k = k + 1\n",
    "                if k%50 == 0:\n",
    "                    print(str(k) + ' donors processed')\n",
    "                \n",
    "        row = [donor_id, cancer_type] + list(freq)\n",
    "        final_df = pd.concat([final_df, pd.DataFrame([row], columns=columns)], ignore_index=True)\n",
    "    \n",
    "    return final_df\n",
    "\n"
   ]
  },
  {
   "cell_type": "code",
   "execution_count": null,
   "metadata": {},
   "outputs": [],
   "source": []
  },
  {
   "cell_type": "code",
   "execution_count": null,
   "metadata": {},
   "outputs": [],
   "source": [
    "columns = ['DonorIDs', 'CancerType'] + list(master_genes)\n",
    "df2 = pd.DataFrame(columns = columns)\n",
    "df2"
   ]
  },
  {
   "cell_type": "code",
   "execution_count": null,
   "metadata": {},
   "outputs": [],
   "source": [
    "#test\n",
    "encoding = pd.DataFrame(columns = columns)\n",
    "encoding = katrinas_gene_function(encoding, 'BRCA-US', master_genes)\n",
    "encoding.reset_index(drop=True, inplace=True)\n",
    "print(encoding.shape)\n",
    "encoding"
   ]
  },
  {
   "cell_type": "code",
   "execution_count": null,
   "metadata": {},
   "outputs": [],
   "source": [
    "folders = [file for file in listdir('data') if 'US' in file]\n",
    "encodings_array = []\n",
    "i=0\n",
    "\n",
    "for cancer in folders:\n",
    "    print(cancer)\n",
    "    encoding = pd.DataFrame(columns = columns)\n",
    "    encoding = katrinas_gene_function(encoding, cancer, master_genes)\n",
    "    encoding.reset_index(drop=True, inplace=True)\n",
    "    encodings_array.append(encoding)"
   ]
  },
  {
   "cell_type": "code",
   "execution_count": null,
   "metadata": {},
   "outputs": [],
   "source": [
    "len(encodings_array)"
   ]
  },
  {
   "cell_type": "code",
   "execution_count": null,
   "metadata": {},
   "outputs": [],
   "source": [
    "freq_encodings = pd.concat([encodings_array[0],\n",
    "          encodings_array[1],\n",
    "          encodings_array[2],\n",
    "          encodings_array[3],\n",
    "          encodings_array[4],\n",
    "          encodings_array[5],\n",
    "          encodings_array[6],\n",
    "          encodings_array[7],\n",
    "          encodings_array[8],\n",
    "          encodings_array[9],\n",
    "          encodings_array[10],\n",
    "          encodings_array[11]])"
   ]
  },
  {
   "cell_type": "code",
   "execution_count": null,
   "metadata": {},
   "outputs": [],
   "source": [
    "freq_encodings.reset_index(drop=True, inplace=True)\n",
    "print(freq_encodings.shape)\n",
    "freq_encodings.head()"
   ]
  },
  {
   "cell_type": "code",
   "execution_count": null,
   "metadata": {},
   "outputs": [],
   "source": [
    "np.unique(freq_encodings.CancerType)"
   ]
  },
  {
   "cell_type": "code",
   "execution_count": null,
   "metadata": {},
   "outputs": [],
   "source": [
    "uniq_freq_enc = freq_encodings.drop_duplicates()"
   ]
  },
  {
   "cell_type": "code",
   "execution_count": null,
   "metadata": {},
   "outputs": [],
   "source": [
    "print(uniq_freq_enc.shape)\n",
    "uniq_freq_enc.head()"
   ]
  },
  {
   "cell_type": "code",
   "execution_count": null,
   "metadata": {},
   "outputs": [],
   "source": [
    "uniq_freq_enc.to_csv('Gene_freq_encoding.csv')"
   ]
  },
  {
   "cell_type": "code",
   "execution_count": null,
   "metadata": {},
   "outputs": [],
   "source": [
    "this_sum = uniq_freq_enc.sum(axis=1)\n",
    "this_sum"
   ]
  },
  {
   "cell_type": "code",
   "execution_count": null,
   "metadata": {},
   "outputs": [],
   "source": [
    "sum(this_sum)/len(this_sum)"
   ]
  },
  {
   "cell_type": "code",
   "execution_count": null,
   "metadata": {},
   "outputs": [],
   "source": []
  }
 ],
 "metadata": {
  "kernelspec": {
   "display_name": "Python 3",
   "language": "python",
   "name": "python3"
  },
  "language_info": {
   "codemirror_mode": {
    "name": "ipython",
    "version": 3
   },
   "file_extension": ".py",
   "mimetype": "text/x-python",
   "name": "python",
   "nbconvert_exporter": "python",
   "pygments_lexer": "ipython3",
   "version": "3.7.1"
  }
 },
 "nbformat": 4,
 "nbformat_minor": 4
}
